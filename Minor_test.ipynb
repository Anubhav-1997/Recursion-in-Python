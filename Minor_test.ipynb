{
  "nbformat": 4,
  "nbformat_minor": 0,
  "metadata": {
    "colab": {
      "name": "Minor test.ipynb",
      "provenance": [],
      "include_colab_link": true
    },
    "kernelspec": {
      "name": "python3",
      "display_name": "Python 3"
    }
  },
  "cells": [
    {
      "cell_type": "markdown",
      "metadata": {
        "id": "view-in-github",
        "colab_type": "text"
      },
      "source": [
        "<a href=\"https://colab.research.google.com/github/Anubhav-1997/Recursion-in-Python/blob/master/Minor_test.ipynb\" target=\"_parent\"><img src=\"https://colab.research.google.com/assets/colab-badge.svg\" alt=\"Open In Colab\"/></a>"
      ]
    },
    {
      "cell_type": "code",
      "metadata": {
        "id": "0vM2hYy3MDtS",
        "colab_type": "code",
        "colab": {
          "base_uri": "https://localhost:8080/",
          "height": 34
        },
        "outputId": "7d8277d3-f148-4835-d884-80a1687cd2e3"
      },
      "source": [
        "def copy(l,i=0,new=[]):\n",
        "  if i==len(l):\n",
        "    return l\n",
        "  else:\n",
        "    new.append(l[i])\n",
        "    return copy(l,i+1,new)\n",
        "\n",
        "copy([12,77,90,34])"
      ],
      "execution_count": 17,
      "outputs": [
        {
          "output_type": "execute_result",
          "data": {
            "text/plain": [
              "[12, 77, 90, 34]"
            ]
          },
          "metadata": {
            "tags": []
          },
          "execution_count": 17
        }
      ]
    },
    {
      "cell_type": "code",
      "metadata": {
        "id": "BQRwFhjI_k3O",
        "colab_type": "code",
        "colab": {
          "base_uri": "https://localhost:8080/",
          "height": 34
        },
        "outputId": "f3158bfc-a1f3-4bd6-9059-585073d4b943"
      },
      "source": [
        "lst=[10,20,30,40,20,20,50]\n",
        "def rem(l,val,i=0):\n",
        "  if i==len(l):\n",
        "    return l\n",
        "  else:\n",
        "    if val==l[i]:\n",
        "      l.pop(i)\n",
        "      return rem(l,val,i)\n",
        "    else:\n",
        "      return rem(l,val,i+1)\n",
        "\n",
        "rem(lst,20)\n",
        "\n"
      ],
      "execution_count": 13,
      "outputs": [
        {
          "output_type": "execute_result",
          "data": {
            "text/plain": [
              "[10, 30, 40, 50]"
            ]
          },
          "metadata": {
            "tags": []
          },
          "execution_count": 13
        }
      ]
    },
    {
      "cell_type": "code",
      "metadata": {
        "id": "Ba2W77JVAFr3",
        "colab_type": "code",
        "colab": {
          "base_uri": "https://localhost:8080/",
          "height": 34
        },
        "outputId": "25cad9b3-0160-4d5a-f77c-280abee8e83b"
      },
      "source": [
        "lst=[10,20,30,40,20,20,50]\n",
        "def rem(l,val,i=0):\n",
        "  if i==len(l):\n",
        "    return l\n",
        "  else:\n",
        "    if val==l[i]:\n",
        "      l=l[0:i]+l[i+1:]\n",
        "      return rem(l,val,i)\n",
        "    else:\n",
        "      return rem(l,val,i+1)\n",
        "\n",
        "rem(lst,20)\n",
        "\n"
      ],
      "execution_count": 18,
      "outputs": [
        {
          "output_type": "execute_result",
          "data": {
            "text/plain": [
              "[10, 30, 40, 50]"
            ]
          },
          "metadata": {
            "tags": []
          },
          "execution_count": 18
        }
      ]
    },
    {
      "cell_type": "code",
      "metadata": {
        "id": "S9TIp75tCuL5",
        "colab_type": "code",
        "colab": {
          "base_uri": "https://localhost:8080/",
          "height": 34
        },
        "outputId": "223bbf06-72ef-4146-f2ae-00ba125a028c"
      },
      "source": [
        "def copy(l,i=0,new=[]):\n",
        "  if i==len(l):\n",
        "    return l\n",
        "  else:\n",
        "    new=l[i]\n",
        "    return copy(l,i+1,new)\n",
        "\n",
        "copy([12,77,90,34])"
      ],
      "execution_count": 27,
      "outputs": [
        {
          "output_type": "execute_result",
          "data": {
            "text/plain": [
              "[12, 77, 90, 34]"
            ]
          },
          "metadata": {
            "tags": []
          },
          "execution_count": 27
        }
      ]
    }
  ]
}