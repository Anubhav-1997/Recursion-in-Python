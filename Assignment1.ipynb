{
  "nbformat": 4,
  "nbformat_minor": 0,
  "metadata": {
    "colab": {
      "name": "Assignment1.ipynb",
      "provenance": [],
      "authorship_tag": "ABX9TyPi1NIaaapLxv8K8tGQg6ND",
      "include_colab_link": true
    },
    "kernelspec": {
      "name": "python3",
      "display_name": "Python 3"
    }
  },
  "cells": [
    {
      "cell_type": "markdown",
      "metadata": {
        "id": "view-in-github",
        "colab_type": "text"
      },
      "source": [
        "<a href=\"https://colab.research.google.com/github/LifeofAGeek/DUCS/blob/master/Assignment1.ipynb\" target=\"_parent\"><img src=\"https://colab.research.google.com/assets/colab-badge.svg\" alt=\"Open In Colab\"/></a>"
      ]
    },
    {
      "cell_type": "code",
      "metadata": {
        "id": "As2qV5kmi5HD",
        "colab_type": "code",
        "colab": {}
      },
      "source": [
        "import time\n",
        "import random\n",
        "import matplotlib.pyplot as plt\n",
        "TimeList=[]\n",
        "arraysize=[]\n",
        "\n",
        "def linearSearch(arr,key,n):\n",
        "  for i in range(0,n):\n",
        "    if(arr[i]==key):\n",
        "      return\n",
        "\n",
        "def main():\n",
        "\n",
        " #Generating a size-million list, whose prefixes we will search\n",
        " numList = []\n",
        " for i in range(0, 1000000):\n",
        "  numList.append(random.random())\n",
        " \n",
        " #The input size n can range from hundred thousand to a million,\n",
        " #in increments of fifty thousand\n",
        " for n in range(100000, 1050000, 50000):\n",
        "  sumLinearTime = 0\t# keeps track of the total time, over 100 trials, that linearSearch takes\n",
        "\n",
        "  #We do 100 trials for each value of n\n",
        "  for i in range(0, 100):\n",
        "   #Generate a number to search for\n",
        "   x = random.random()\n",
        "\n",
        "   #Compute the time it takes for linearSearch\n",
        "   slt = time.time()\n",
        "   linearFound = linearSearch(numList, x, n)\n",
        "   elt = time.time()\n",
        "   elapsedLinearTime = elt - slt\n",
        "\n",
        "   sumLinearTime += elapsedLinearTime\n",
        "  #end for-i: End of 100 trials\n",
        "\n",
        "  TimeList.append(sumLinearTime)\n",
        "  arraysize.append(n)\n",
        "  print(str(sumLinearTime))\n"
      ],
      "execution_count": 13,
      "outputs": []
    },
    {
      "cell_type": "code",
      "metadata": {
        "id": "bLbNi5f5jSqt",
        "colab_type": "code",
        "colab": {
          "base_uri": "https://localhost:8080/",
          "height": 340
        },
        "outputId": "e4073880-e6bb-4b39-edba-47b1d44882fa"
      },
      "source": [
        "main()"
      ],
      "execution_count": 14,
      "outputs": [
        {
          "output_type": "stream",
          "text": [
            "0.5641787052154541\n",
            "0.793696403503418\n",
            "1.0758938789367676\n",
            "1.33573317527771\n",
            "1.6022298336029053\n",
            "1.8689370155334473\n",
            "2.122831106185913\n",
            "2.4290101528167725\n",
            "2.657358407974243\n",
            "2.9246537685394287\n",
            "3.1887621879577637\n",
            "3.466658115386963\n",
            "3.720475912094116\n",
            "4.000995397567749\n",
            "4.275476455688477\n",
            "4.644845008850098\n",
            "4.881340980529785\n",
            "5.0648980140686035\n",
            "5.338303804397583\n"
          ],
          "name": "stdout"
        }
      ]
    },
    {
      "cell_type": "code",
      "metadata": {
        "id": "9laTRX24jiDL",
        "colab_type": "code",
        "colab": {
          "base_uri": "https://localhost:8080/",
          "height": 34
        },
        "outputId": "083f325d-a00a-4708-cc41-17a38ea51f29"
      },
      "source": [
        "len(TimeList)"
      ],
      "execution_count": 18,
      "outputs": [
        {
          "output_type": "execute_result",
          "data": {
            "text/plain": [
              "19"
            ]
          },
          "metadata": {
            "tags": []
          },
          "execution_count": 18
        }
      ]
    },
    {
      "cell_type": "code",
      "metadata": {
        "id": "mf54rNWsoP04",
        "colab_type": "code",
        "colab": {
          "base_uri": "https://localhost:8080/",
          "height": 279
        },
        "outputId": "d2e82108-f7c9-46c3-e6a1-16bfc2d5e431"
      },
      "source": [
        "plt.xlabel('Input Array Size') \n",
        "plt.ylabel('Time Complexity in sec.') \n",
        "plt.plot(arraysize,TimeList, label ='Linear Search') \n",
        "plt.grid() \n",
        "plt.legend() \n",
        "plt.show() "
      ],
      "execution_count": 19,
      "outputs": [
        {
          "output_type": "display_data",
          "data": {
            "image/png": "[encoded data removed]",
            "text/plain": [
              "<Figure size 432x288 with 1 Axes>"
            ]
          },
          "metadata": {
            "tags": [],
            "needs_background": "light"
          }
        }
      ]
    },
    {
      "cell_type": "code",
      "metadata": {
        "id": "Aj_ZukgApO-9",
        "colab_type": "code",
        "colab": {}
      },
      "source": [
        ""
      ],
      "execution_count": null,
      "outputs": []
    }
  ]
}