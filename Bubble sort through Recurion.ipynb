{
  "nbformat": 4,
  "nbformat_minor": 0,
  "metadata": {
    "colab": {
      "name": "lab5.ipynb",
      "provenance": [],
      "include_colab_link": true
    },
    "kernelspec": {
      "name": "python3",
      "display_name": "Python 3"
    }
  },
  "cells": [
    {
      "cell_type": "markdown",
      "metadata": {
        "id": "view-in-github",
        "colab_type": "text"
      },
      "source": [
        "<a href=\"https://colab.research.google.com/github/Anubhav-1997/Recursion-in-Python/blob/master/Bubble%20sort%20through%20Recurion.ipynb\" target=\"_parent\"><img src=\"https://colab.research.google.com/assets/colab-badge.svg\" alt=\"Open In Colab\"/></a>"
      ]
    },
    {
      "cell_type": "code",
      "metadata": {
        "id": "vIrTkAHJVLWN",
        "colab_type": "code",
        "colab": {}
      },
      "source": [
        "def bubble(list_val):\n",
        "    if len(list_val)==1:\n",
        "        return [list_val[0]]\n",
        "    if list_val[0]>list_val[1]:\n",
        "        list_val[0],list_val[1]=list_val[1],list_val[0]\n",
        "        return [list_val[0]]+bubble(list_val[1:])\n",
        "    else:\n",
        "        return [list_val[0]]+bubble(list_val[1:])\n",
        "\n",
        "def bubblesort(l):\n",
        "    l=bubble(l)\n",
        "    if len(l)>1:\n",
        "        return bubblesort(l[:-1]) + [l[-1]]\n",
        "    else:\n",
        "        return l"
      ],
      "execution_count": 0,
      "outputs": []
    },
    {
      "cell_type": "code",
      "metadata": {
        "id": "k823orLbW3o5",
        "colab_type": "code",
        "outputId": "4ead7861-8279-4a53-98db-083a9802bab5",
        "colab": {
          "base_uri": "https://localhost:8080/",
          "height": 34
        }
      },
      "source": [
        "mylist=[5,3,7,3,9,120,555,999,11,0,-12]\n",
        "bubblesort(mylist)"
      ],
      "execution_count": 14,
      "outputs": [
        {
          "output_type": "execute_result",
          "data": {
            "text/plain": [
              "[-12, 0, 3, 3, 5, 7, 9, 11, 120, 555, 999]"
            ]
          },
          "metadata": {
            "tags": []
          },
          "execution_count": 14
        }
      ]
    },
    {
      "cell_type": "code",
      "metadata": {
        "id": "BR5UDm4JXGU3",
        "colab_type": "code",
        "colab": {}
      },
      "source": [
        ""
      ],
      "execution_count": 0,
      "outputs": []
    }
  ]
}
