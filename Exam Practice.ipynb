{
 "cells": [
  {
   "cell_type": "code",
   "execution_count": 1,
   "metadata": {},
   "outputs": [],
   "source": [
    "def invert(dictWord):\n",
    "    invDict = {}\n",
    "    for word in dictWord:\n",
    "        invDict[dictWord[word]] = word\n",
    "    return invDict"
   ]
  },
  {
   "cell_type": "code",
   "execution_count": 2,
   "metadata": {},
   "outputs": [
    {
     "data": {
      "text/plain": [
       "{'abcde': 'A', 'fghij': 'B', 'klmno': 'C'}"
      ]
     },
     "execution_count": 2,
     "metadata": {},
     "output_type": "execute_result"
    }
   ],
   "source": [
    "dictWord = {\"A\":\"abcde\", \"B\":\"fghij\", \"C\":\"klmno\"}\n",
    "invert(dictWord)"
   ]
  },
  {
   "cell_type": "code",
   "execution_count": 9,
   "metadata": {},
   "outputs": [],
   "source": [
    "def percentage(marks, total):\n",
    "    try:\n",
    "        percent = (marks/total) * 100\n",
    "    except ValueError:\n",
    "        print('ValueError')\n",
    "    except TypeError:\n",
    "        print('TypeError')\n",
    "    except ZeroDivisionError:\n",
    "        print('ZeroDivisionError')\n",
    "    except:\n",
    "        print('Any other Error')\n",
    "    else:\n",
    "        print(percent)\n",
    "    finally:\n",
    "        print('Function percentage completed')"
   ]
  },
  {
   "cell_type": "code",
   "execution_count": 12,
   "metadata": {},
   "outputs": [
    {
     "name": "stdout",
     "output_type": "stream",
     "text": [
      "TypeError\n",
      "Function percentage completed\n"
     ]
    }
   ],
   "source": [
    "percentage('150.0', '200.0')"
   ]
  },
  {
   "cell_type": "code",
   "execution_count": 16,
   "metadata": {},
   "outputs": [
    {
     "name": "stdout",
     "output_type": "stream",
     "text": [
      "Inside function test : a =  40\n",
      "Inside function test : b =  30\n",
      "Outside function test : a =  40\n"
     ]
    },
    {
     "ename": "NameError",
     "evalue": "name 'b' is not defined",
     "output_type": "error",
     "traceback": [
      "\u001b[0;31m---------------------------------------------------------------------------\u001b[0m",
      "\u001b[0;31mNameError\u001b[0m                                 Traceback (most recent call last)",
      "\u001b[0;32m<ipython-input-16-c84afbc48776>\u001b[0m in \u001b[0;36m<module>\u001b[0;34m\u001b[0m\n\u001b[1;32m      8\u001b[0m \u001b[0mtest\u001b[0m\u001b[0;34m(\u001b[0m\u001b[0;34m)\u001b[0m\u001b[0;34m\u001b[0m\u001b[0;34m\u001b[0m\u001b[0m\n\u001b[1;32m      9\u001b[0m \u001b[0mprint\u001b[0m\u001b[0;34m(\u001b[0m\u001b[0;34m'Outside function test : a = '\u001b[0m\u001b[0;34m,\u001b[0m \u001b[0ma\u001b[0m\u001b[0;34m)\u001b[0m\u001b[0;34m\u001b[0m\u001b[0;34m\u001b[0m\u001b[0m\n\u001b[0;32m---> 10\u001b[0;31m \u001b[0mprint\u001b[0m\u001b[0;34m(\u001b[0m\u001b[0;34m'Outside function test : b = '\u001b[0m\u001b[0;34m,\u001b[0m \u001b[0mb\u001b[0m\u001b[0;34m)\u001b[0m\u001b[0;34m\u001b[0m\u001b[0;34m\u001b[0m\u001b[0m\n\u001b[0m",
      "\u001b[0;31mNameError\u001b[0m: name 'b' is not defined"
     ]
    }
   ],
   "source": [
    "a = 20\n",
    "def test():\n",
    "    global a\n",
    "    b = 30\n",
    "    a = 40\n",
    "    print('Inside function test : a = ', a)\n",
    "    print('Inside function test : b = ', b)\n",
    "test()\n",
    "print('Outside function test : a = ', a)\n",
    "print('Outside function test : b = ', b)"
   ]
  },
  {
   "cell_type": "code",
   "execution_count": 21,
   "metadata": {},
   "outputs": [
    {
     "ename": "UnboundLocalError",
     "evalue": "local variable 'z' referenced before assignment",
     "output_type": "error",
     "traceback": [
      "\u001b[0;31m---------------------------------------------------------------------------\u001b[0m",
      "\u001b[0;31mUnboundLocalError\u001b[0m                         Traceback (most recent call last)",
      "\u001b[0;32m<ipython-input-21-5192269d8f1a>\u001b[0m in \u001b[0;36m<module>\u001b[0;34m\u001b[0m\n\u001b[1;32m      2\u001b[0m \u001b[0;32mdef\u001b[0m \u001b[0mdemo\u001b[0m\u001b[0;34m(\u001b[0m\u001b[0;34m)\u001b[0m\u001b[0;34m:\u001b[0m\u001b[0;34m\u001b[0m\u001b[0;34m\u001b[0m\u001b[0m\n\u001b[1;32m      3\u001b[0m     \u001b[0mz\u001b[0m \u001b[0;34m=\u001b[0m \u001b[0mz\u001b[0m\u001b[0;34m+\u001b[0m\u001b[0;36m1\u001b[0m\u001b[0;34m\u001b[0m\u001b[0;34m\u001b[0m\u001b[0m\n\u001b[0;32m----> 4\u001b[0;31m \u001b[0mdemo\u001b[0m\u001b[0;34m(\u001b[0m\u001b[0;34m)\u001b[0m\u001b[0;34m\u001b[0m\u001b[0;34m\u001b[0m\u001b[0m\n\u001b[0m\u001b[1;32m      5\u001b[0m \u001b[0mprint\u001b[0m\u001b[0;34m(\u001b[0m\u001b[0mz\u001b[0m\u001b[0;34m)\u001b[0m\u001b[0;34m\u001b[0m\u001b[0;34m\u001b[0m\u001b[0m\n",
      "\u001b[0;32m<ipython-input-21-5192269d8f1a>\u001b[0m in \u001b[0;36mdemo\u001b[0;34m()\u001b[0m\n\u001b[1;32m      1\u001b[0m \u001b[0mz\u001b[0m \u001b[0;34m=\u001b[0m \u001b[0;36m2\u001b[0m\u001b[0;34m\u001b[0m\u001b[0;34m\u001b[0m\u001b[0m\n\u001b[1;32m      2\u001b[0m \u001b[0;32mdef\u001b[0m \u001b[0mdemo\u001b[0m\u001b[0;34m(\u001b[0m\u001b[0;34m)\u001b[0m\u001b[0;34m:\u001b[0m\u001b[0;34m\u001b[0m\u001b[0;34m\u001b[0m\u001b[0m\n\u001b[0;32m----> 3\u001b[0;31m     \u001b[0mz\u001b[0m \u001b[0;34m=\u001b[0m \u001b[0mz\u001b[0m\u001b[0;34m+\u001b[0m\u001b[0;36m1\u001b[0m\u001b[0;34m\u001b[0m\u001b[0;34m\u001b[0m\u001b[0m\n\u001b[0m\u001b[1;32m      4\u001b[0m \u001b[0mdemo\u001b[0m\u001b[0;34m(\u001b[0m\u001b[0;34m)\u001b[0m\u001b[0;34m\u001b[0m\u001b[0;34m\u001b[0m\u001b[0m\n\u001b[1;32m      5\u001b[0m \u001b[0mprint\u001b[0m\u001b[0;34m(\u001b[0m\u001b[0mz\u001b[0m\u001b[0;34m)\u001b[0m\u001b[0;34m\u001b[0m\u001b[0;34m\u001b[0m\u001b[0m\n",
      "\u001b[0;31mUnboundLocalError\u001b[0m: local variable 'z' referenced before assignment"
     ]
    }
   ],
   "source": [
    "z = 2\n",
    "def demo():\n",
    "    z = z+1\n",
    "demo()\n",
    "print(z)"
   ]
  },
  {
   "cell_type": "code",
   "execution_count": 25,
   "metadata": {},
   "outputs": [
    {
     "name": "stdout",
     "output_type": "stream",
     "text": [
      "inside function g, a =  10\n",
      "inside function h, a =  20\n",
      "inside function f, a =  20\n"
     ]
    }
   ],
   "source": [
    "a = 4\n",
    "def f():\n",
    "    a=5\n",
    "    def g():\n",
    "        nonlocal a\n",
    "        a = 10\n",
    "        print('inside function g,', 'a = ', a)\n",
    "        def h():\n",
    "            nonlocal a\n",
    "            a = 20\n",
    "            print('inside function h,', 'a = ', a)\n",
    "        h()\n",
    "    g()\n",
    "    print('inside function f,', 'a = ', a)\n",
    "f()"
   ]
  },
  {
   "cell_type": "code",
   "execution_count": 26,
   "metadata": {},
   "outputs": [
    {
     "ename": "SyntaxError",
     "evalue": "unexpected EOF while parsing (<ipython-input-26-362b14338414>, line 3)",
     "output_type": "error",
     "traceback": [
      "\u001b[0;36m  File \u001b[0;32m\"<ipython-input-26-362b14338414>\"\u001b[0;36m, line \u001b[0;32m3\u001b[0m\n\u001b[0;31m    \u001b[0m\n\u001b[0m    ^\u001b[0m\n\u001b[0;31mSyntaxError\u001b[0m\u001b[0;31m:\u001b[0m unexpected EOF while parsing\n"
     ]
    }
   ],
   "source": [
    "def pattern(n):\n",
    "    for i in range(1,n+1):\n",
    "        "
   ]
  },
  {
   "cell_type": "code",
   "execution_count": 69,
   "metadata": {},
   "outputs": [],
   "source": [
    "def decode(s):\n",
    "    s1 = ''\n",
    "    alpha_str = \"abcdefghijklmnopqrstuvwxyz\"\n",
    "    alpha_list = list(alpha_str)\n",
    "    for i in s:\n",
    "        s1 += alpha_list[alpha_list.index(i)-3]\n",
    "    return s1"
   ]
  },
  {
   "cell_type": "code",
   "execution_count": 72,
   "metadata": {},
   "outputs": [
    {
     "data": {
      "text/plain": [
       "'uvw'"
      ]
     },
     "execution_count": 72,
     "metadata": {},
     "output_type": "execute_result"
    }
   ],
   "source": [
    "decode('xyz')"
   ]
  },
  {
   "cell_type": "code",
   "execution_count": 106,
   "metadata": {},
   "outputs": [
    {
     "name": "stdout",
     "output_type": "stream",
     "text": [
      "*  *  \n",
      "*  *  \n"
     ]
    }
   ],
   "source": [
    "def pattern1(n):\n",
    "    for i in range(1,n+1):\n",
    "        if i in range(2,n):\n",
    "            print('*'+ ' '*(3*n-4) + '*')\n",
    "        else:\n",
    "            print('*  '*n)\n",
    "pattern1(2)"
   ]
  },
  {
   "cell_type": "code",
   "execution_count": 196,
   "metadata": {},
   "outputs": [
    {
     "name": "stdout",
     "output_type": "stream",
     "text": [
      "*  *  *  *  *  *  *  \n",
      "   *           *     \n",
      "      *     *        \n",
      "         *           \n"
     ]
    }
   ],
   "source": [
    "def pattern2(n):\n",
    "    for i in range(1, n+1):\n",
    "        s1 = ''\n",
    "        for j in range(-(n-1),n):\n",
    "            if i in range(2, n+1):\n",
    "                if abs(j) == abs(i-n):\n",
    "                    s1+='*  '\n",
    "                else:\n",
    "                    s1 += '   '\n",
    "            else:\n",
    "                s1 += '*  '\n",
    "        print(s1)\n",
    "            \n",
    "pattern2(4)"
   ]
  },
  {
   "cell_type": "code",
   "execution_count": 146,
   "metadata": {},
   "outputs": [],
   "source": [
    "def cumulative(lst, cumulativeLst = [], i=0):\n",
    "    if i < len(lst):\n",
    "        sum_i = sum(lst[0:i+1])\n",
    "        cumulativeLst.append(sum_i)\n",
    "        cumulative(lst, cumulativeLst, i+1)\n",
    "    return cumulativeLst"
   ]
  },
  {
   "cell_type": "code",
   "execution_count": 147,
   "metadata": {},
   "outputs": [
    {
     "data": {
      "text/plain": [
       "[1, 3, 6, 10, 15]"
      ]
     },
     "execution_count": 147,
     "metadata": {},
     "output_type": "execute_result"
    }
   ],
   "source": [
    "lst=[1,2,3,4,5]\n",
    "cumulative(lst)"
   ]
  },
  {
   "cell_type": "code",
   "execution_count": 16,
   "metadata": {},
   "outputs": [
    {
     "data": {
      "text/plain": [
       "53"
      ]
     },
     "execution_count": 16,
     "metadata": {},
     "output_type": "execute_result"
    }
   ],
   "source": [
    "f = open('research.txt','w')\n",
    "f.write(\"My name is python programming khan python programming\")"
   ]
  },
  {
   "cell_type": "code",
   "execution_count": 17,
   "metadata": {},
   "outputs": [],
   "source": [
    "f.close()"
   ]
  },
  {
   "cell_type": "code",
   "execution_count": 185,
   "metadata": {},
   "outputs": [],
   "source": [
    "def func(file_name):\n",
    "    f = open(file_name,'r')\n",
    "    line = f.readline()\n",
    "    lst = line.split()\n",
    "    word_count = len(lst)\n",
    "    word_start_cons = 0\n",
    "    for word in lst:\n",
    "        if word[0] not in ['a','e','i','o','u']:\n",
    "            word_start_cons += 1\n",
    "    phrase_count = line.count('python programming')\n",
    "    return (word_count, word_start_cons, phrase_count)"
   ]
  },
  {
   "cell_type": "code",
   "execution_count": 186,
   "metadata": {},
   "outputs": [
    {
     "data": {
      "text/plain": [
       "(8, 7, 2)"
      ]
     },
     "execution_count": 186,
     "metadata": {},
     "output_type": "execute_result"
    }
   ],
   "source": [
    "func('research.txt')"
   ]
  },
  {
   "cell_type": "code",
   "execution_count": 177,
   "metadata": {},
   "outputs": [
    {
     "data": {
      "text/plain": [
       "3"
      ]
     },
     "execution_count": 177,
     "metadata": {},
     "output_type": "execute_result"
    }
   ],
   "source": [
    "'dfkjdsfabcjddsjfabcsdsdjbhabc'.count('abc')"
   ]
  },
  {
   "cell_type": "code",
   "execution_count": 182,
   "metadata": {},
   "outputs": [
    {
     "data": {
      "text/plain": [
       "2"
      ]
     },
     "execution_count": 182,
     "metadata": {},
     "output_type": "execute_result"
    }
   ],
   "source": [
    "\"My name is python programming khan python programming\".count('python programming')"
   ]
  },
  {
   "cell_type": "code",
   "execution_count": 12,
   "metadata": {},
   "outputs": [],
   "source": [
    "def traingle(n):\n",
    "    for i in range(1,n+1):\n",
    "        print(\" \"*(n-i), end=\"\")\n",
    "        for j in range(i,0,-1):\n",
    "            print(j,end=\"\")\n",
    "        for j in range(2,i+1):\n",
    "            print(j,end=\"\")\n",
    "        print()"
   ]
  },
  {
   "cell_type": "code",
   "execution_count": 13,
   "metadata": {},
   "outputs": [
    {
     "name": "stdout",
     "output_type": "stream",
     "text": [
      "   1\n",
      "  212\n",
      " 32123\n",
      "4321234\n"
     ]
    }
   ],
   "source": [
    "traingle(4)"
   ]
  },
  {
   "cell_type": "code",
   "execution_count": 14,
   "metadata": {},
   "outputs": [],
   "source": [
    "def cumu(lst,n=1):\n",
    "    if n==len(lst):\n",
    "        return lst\n",
    "    else:\n",
    "        lst[n]=lst[n]+lst[n-1]\n",
    "        return cumu(lst,n+1)"
   ]
  },
  {
   "cell_type": "code",
   "execution_count": 15,
   "metadata": {},
   "outputs": [
    {
     "data": {
      "text/plain": [
       "[1, 3, 6, 10, 17]"
      ]
     },
     "execution_count": 15,
     "metadata": {},
     "output_type": "execute_result"
    }
   ],
   "source": [
    "cumu([1,2,3,4,7])"
   ]
  },
  {
   "cell_type": "code",
   "execution_count": 18,
   "metadata": {},
   "outputs": [],
   "source": [
    "l=\"My name is python programming khan python programming\".split()"
   ]
  },
  {
   "cell_type": "code",
   "execution_count": 19,
   "metadata": {},
   "outputs": [
    {
     "data": {
      "text/plain": [
       "['My', 'name', 'is', 'python', 'programming', 'khan', 'python', 'programming']"
      ]
     },
     "execution_count": 19,
     "metadata": {},
     "output_type": "execute_result"
    }
   ],
   "source": [
    "l"
   ]
  },
  {
   "cell_type": "code",
   "execution_count": 20,
   "metadata": {},
   "outputs": [
    {
     "data": {
      "text/plain": [
       "0"
      ]
     },
     "execution_count": 20,
     "metadata": {},
     "output_type": "execute_result"
    }
   ],
   "source": [
    "l.count(\"python programming\")"
   ]
  },
  {
   "cell_type": "code",
   "execution_count": 93,
   "metadata": {},
   "outputs": [],
   "source": [
    "import sys\n",
    "class student():\n",
    "    def __init__(self,rollnum,name,markslist,stream):\n",
    "        self.rollnum=rollnum\n",
    "        self.name=name\n",
    "        self.markslist=markslist\n",
    "        if stream in [\"A\",\"C\",\"S\"]:\n",
    "            self.stream=stream\n",
    "        else:\n",
    "            print(\"Wrong Stream\")\n",
    "            sys.exit()\n",
    "    def setmarks(self,markslist):\n",
    "        self.markslist=markslist\n",
    "    def getstream(self):\n",
    "        return self.stream\n",
    "    def percentage(self):\n",
    "        return (sum(self.markslist)/500)*100\n",
    "    def division(self):\n",
    "        if self.percentage()>=60:\n",
    "            return(\"I\")\n",
    "        if self.percentage()<60 and self.percentage()>=50:\n",
    "            return(\"II\")\n",
    "        if self.percentage()<50 and self.percentage()>=35:\n",
    "            return(\"III\")\n",
    "    def gradeGen(self):\n",
    "        dic={}\n",
    "        for i in self.markslist:\n",
    "            if i>=90:\n",
    "                dic[i]=\"A\"\n",
    "            elif i<90 and i>=80:\n",
    "                dic[i]=\"B\"\n",
    "            elif i<80 and i>=65:\n",
    "                dic[i]=\"C\"\n",
    "            elif i<65 and i>=40:\n",
    "                dic[i]=\"D\"\n",
    "            else:\n",
    "                dic[i]=\"F\"\n",
    "        return dic\n",
    "    def __str__(self):\n",
    "        return \"Roll Nunber: \"+str(self.rollnum)+\"\\nName: \"+self.name+\"\\nMarks List: \"+str(self.markslist)+\"\\nGrade: \"+str(self.gradeGen())+\"\\nPercentage: \"+str(self.percentage())+\"\\nStream: \"+str(self.stream)+\"\\nDivision: \"+str(self.division())"
   ]
  },
  {
   "cell_type": "code",
   "execution_count": 94,
   "metadata": {},
   "outputs": [],
   "source": [
    "s1=student(1,\"anubhav\",[55,60,90,70,65],\"S\")"
   ]
  },
  {
   "cell_type": "code",
   "execution_count": 95,
   "metadata": {},
   "outputs": [
    {
     "data": {
      "text/plain": [
       "[55, 60, 90, 70, 65]"
      ]
     },
     "execution_count": 95,
     "metadata": {},
     "output_type": "execute_result"
    }
   ],
   "source": [
    "s1.markslist"
   ]
  },
  {
   "cell_type": "code",
   "execution_count": 96,
   "metadata": {},
   "outputs": [
    {
     "data": {
      "text/plain": [
       "'S'"
      ]
     },
     "execution_count": 96,
     "metadata": {},
     "output_type": "execute_result"
    }
   ],
   "source": [
    "s1.getstream()"
   ]
  },
  {
   "cell_type": "code",
   "execution_count": 97,
   "metadata": {},
   "outputs": [
    {
     "data": {
      "text/plain": [
       "68.0"
      ]
     },
     "execution_count": 97,
     "metadata": {},
     "output_type": "execute_result"
    }
   ],
   "source": [
    "s1.percentage()"
   ]
  },
  {
   "cell_type": "code",
   "execution_count": 98,
   "metadata": {},
   "outputs": [
    {
     "data": {
      "text/plain": [
       "'I'"
      ]
     },
     "execution_count": 98,
     "metadata": {},
     "output_type": "execute_result"
    }
   ],
   "source": [
    "s1.division()"
   ]
  },
  {
   "cell_type": "code",
   "execution_count": 99,
   "metadata": {},
   "outputs": [
    {
     "data": {
      "text/plain": [
       "{55: 'D', 60: 'D', 90: 'A', 70: 'C', 65: 'C'}"
      ]
     },
     "execution_count": 99,
     "metadata": {},
     "output_type": "execute_result"
    }
   ],
   "source": [
    "s1.gradeGen()"
   ]
  },
  {
   "cell_type": "code",
   "execution_count": 100,
   "metadata": {},
   "outputs": [
    {
     "name": "stdout",
     "output_type": "stream",
     "text": [
      "Roll Nunber: 1\n",
      "Name: anubhav\n",
      "Marks List: [55, 60, 90, 70, 65]\n",
      "Grade: {55: 'D', 60: 'D', 90: 'A', 70: 'C', 65: 'C'}\n",
      "Percentage: 68.0\n",
      "Stream: S\n",
      "Division: I\n"
     ]
    }
   ],
   "source": [
    "print(s1)"
   ]
  },
  {
   "cell_type": "code",
   "execution_count": 26,
   "metadata": {},
   "outputs": [
    {
     "data": {
      "text/plain": [
       "[3, 1, 2, 1, 2, 3, 4, 3, 4, 5, 6, 7]"
      ]
     },
     "execution_count": 26,
     "metadata": {},
     "output_type": "execute_result"
    }
   ],
   "source": [
    "def ListFlattern(lst,index=0,new=[]):\n",
    "    if index==len(lst):\n",
    "        return new\n",
    "    else:\n",
    "        l=lst[index]\n",
    "        if type(l)==list:\n",
    "            ListFlattern(l,0,new)\n",
    "            return ListFlattern(lst,index+1,new)\n",
    "        else:\n",
    "            new.append(l)\n",
    "            return ListFlattern(lst,index+1,new)\n",
    "\n",
    "ListFlattern([3,[1,2],[1,2,3,4],[3,4,5,6,7]])"
   ]
  },
  {
   "cell_type": "code",
   "execution_count": 37,
   "metadata": {},
   "outputs": [],
   "source": [
    "class point():\n",
    "    def __init__(self,x,y):\n",
    "        self.x=x\n",
    "        self.y=y\n",
    "    def __str__(self):\n",
    "        return str((self.x,self.y))\n",
    "    def __add__(self,other):\n",
    "        x=self.x+other.x\n",
    "        y=self.y+other.y\n",
    "        return x,y\n",
    "        "
   ]
  },
  {
   "cell_type": "code",
   "execution_count": 38,
   "metadata": {},
   "outputs": [],
   "source": [
    "p1=point(1,1)\n",
    "p2=point(2,2)"
   ]
  },
  {
   "cell_type": "code",
   "execution_count": 39,
   "metadata": {},
   "outputs": [],
   "source": [
    "p3=p1+p2"
   ]
  },
  {
   "cell_type": "code",
   "execution_count": 40,
   "metadata": {},
   "outputs": [
    {
     "name": "stdout",
     "output_type": "stream",
     "text": [
      "(3, 3)\n"
     ]
    }
   ],
   "source": [
    "print(p3)"
   ]
  },
  {
   "cell_type": "code",
   "execution_count": 41,
   "metadata": {},
   "outputs": [],
   "source": [
    "f=open(\"demo.txt\",\"w\")"
   ]
  },
  {
   "cell_type": "code",
   "execution_count": 42,
   "metadata": {},
   "outputs": [
    {
     "data": {
      "text/plain": [
       "113"
      ]
     },
     "execution_count": 42,
     "metadata": {},
     "output_type": "execute_result"
    }
   ],
   "source": [
    "f.write('''Python programming:\n",
    "            language is a good programming language,\n",
    "            python programming is nice!!''')"
   ]
  },
  {
   "cell_type": "code",
   "execution_count": 43,
   "metadata": {},
   "outputs": [],
   "source": [
    "f.close()"
   ]
  },
  {
   "cell_type": "code",
   "execution_count": 64,
   "metadata": {},
   "outputs": [],
   "source": [
    "f=open(\"demo.txt\",\"r\")"
   ]
  },
  {
   "cell_type": "code",
   "execution_count": null,
   "metadata": {},
   "outputs": [],
   "source": []
  },
  {
   "cell_type": "code",
   "execution_count": 65,
   "metadata": {},
   "outputs": [],
   "source": [
    "line=f.readline()"
   ]
  },
  {
   "cell_type": "code",
   "execution_count": 66,
   "metadata": {},
   "outputs": [
    {
     "data": {
      "text/plain": [
       "'Python programming:\\n'"
      ]
     },
     "execution_count": 66,
     "metadata": {},
     "output_type": "execute_result"
    }
   ],
   "source": [
    "line"
   ]
  },
  {
   "cell_type": "code",
   "execution_count": 67,
   "metadata": {},
   "outputs": [],
   "source": [
    "l=list(line)"
   ]
  },
  {
   "cell_type": "code",
   "execution_count": 68,
   "metadata": {},
   "outputs": [
    {
     "data": {
      "text/plain": [
       "['P',\n",
       " 'y',\n",
       " 't',\n",
       " 'h',\n",
       " 'o',\n",
       " 'n',\n",
       " ' ',\n",
       " 'p',\n",
       " 'r',\n",
       " 'o',\n",
       " 'g',\n",
       " 'r',\n",
       " 'a',\n",
       " 'm',\n",
       " 'm',\n",
       " 'i',\n",
       " 'n',\n",
       " 'g',\n",
       " ':',\n",
       " '\\n']"
      ]
     },
     "execution_count": 68,
     "metadata": {},
     "output_type": "execute_result"
    }
   ],
   "source": [
    "l"
   ]
  },
  {
   "cell_type": "code",
   "execution_count": 69,
   "metadata": {},
   "outputs": [
    {
     "data": {
      "text/plain": [
       "'            language is a good programming language,\\n'"
      ]
     },
     "execution_count": 69,
     "metadata": {},
     "output_type": "execute_result"
    }
   ],
   "source": [
    "f.readline()"
   ]
  },
  {
   "cell_type": "code",
   "execution_count": 70,
   "metadata": {},
   "outputs": [
    {
     "data": {
      "text/plain": [
       "'            python programming is nice!!'"
      ]
     },
     "execution_count": 70,
     "metadata": {},
     "output_type": "execute_result"
    }
   ],
   "source": [
    "f.readline()"
   ]
  },
  {
   "cell_type": "code",
   "execution_count": 71,
   "metadata": {},
   "outputs": [
    {
     "data": {
      "text/plain": [
       "''"
      ]
     },
     "execution_count": 71,
     "metadata": {},
     "output_type": "execute_result"
    }
   ],
   "source": [
    "f.readline()"
   ]
  },
  {
   "cell_type": "code",
   "execution_count": 73,
   "metadata": {},
   "outputs": [
    {
     "data": {
      "text/plain": [
       "0"
      ]
     },
     "execution_count": 73,
     "metadata": {},
     "output_type": "execute_result"
    }
   ],
   "source": [
    "f.seek(0)"
   ]
  },
  {
   "cell_type": "code",
   "execution_count": 74,
   "metadata": {},
   "outputs": [
    {
     "data": {
      "text/plain": [
       "'Python programming:\\n'"
      ]
     },
     "execution_count": 74,
     "metadata": {},
     "output_type": "execute_result"
    }
   ],
   "source": [
    "f.readline()"
   ]
  },
  {
   "cell_type": "code",
   "execution_count": 75,
   "metadata": {},
   "outputs": [],
   "source": [
    "f.close()"
   ]
  },
  {
   "cell_type": "code",
   "execution_count": 76,
   "metadata": {},
   "outputs": [],
   "source": [
    "f=open(\"demo.txt\",\"a\")"
   ]
  },
  {
   "cell_type": "code",
   "execution_count": 77,
   "metadata": {},
   "outputs": [
    {
     "data": {
      "text/plain": [
       "32"
      ]
     },
     "execution_count": 77,
     "metadata": {},
     "output_type": "execute_result"
    }
   ],
   "source": [
    "f.write(\"simple syntax python programming\")"
   ]
  },
  {
   "cell_type": "code",
   "execution_count": 78,
   "metadata": {},
   "outputs": [],
   "source": [
    "f.close()"
   ]
  },
  {
   "cell_type": "code",
   "execution_count": 79,
   "metadata": {},
   "outputs": [],
   "source": [
    "f=open(\"demo.txt\",\"r\")"
   ]
  },
  {
   "cell_type": "code",
   "execution_count": 80,
   "metadata": {},
   "outputs": [
    {
     "data": {
      "text/plain": [
       "'Python programming:\\n            language is a good programming language,\\n            python programming is nice!!simple syntax python programming'"
      ]
     },
     "execution_count": 80,
     "metadata": {},
     "output_type": "execute_result"
    }
   ],
   "source": [
    "f.read()"
   ]
  },
  {
   "cell_type": "code",
   "execution_count": 81,
   "metadata": {},
   "outputs": [],
   "source": [
    "f.close()"
   ]
  },
  {
   "cell_type": "code",
   "execution_count": 99,
   "metadata": {},
   "outputs": [],
   "source": [
    "f=open(\"demo.txt\",\"r\")"
   ]
  },
  {
   "cell_type": "code",
   "execution_count": 100,
   "metadata": {},
   "outputs": [],
   "source": [
    "file=f.readline()"
   ]
  },
  {
   "cell_type": "code",
   "execution_count": 101,
   "metadata": {},
   "outputs": [
    {
     "name": "stdout",
     "output_type": "stream",
     "text": [
      "Python programming:\n",
      "\n"
     ]
    }
   ],
   "source": [
    "print(file)"
   ]
  },
  {
   "cell_type": "code",
   "execution_count": 103,
   "metadata": {},
   "outputs": [
    {
     "data": {
      "text/plain": [
       "['Python', 'programming:']"
      ]
     },
     "execution_count": 103,
     "metadata": {},
     "output_type": "execute_result"
    }
   ],
   "source": [
    "s='Python programming:'\n",
    "s.split()"
   ]
  },
  {
   "cell_type": "code",
   "execution_count": 143,
   "metadata": {},
   "outputs": [],
   "source": [
    "f=open(\"demo.txt\",\"r\")\n",
    "def txt():\n",
    "    line=f.readline()\n",
    "    l=line.split()\n",
    "    wc=len(l)\n",
    "    c=0\n",
    "    for word in l:\n",
    "        if word[0] not in ['a','e','i','o','u','A','E','I','O','U']:\n",
    "            c+=1\n",
    "    f.close()\n",
    "    return c,wc"
   ]
  },
  {
   "cell_type": "code",
   "execution_count": 144,
   "metadata": {},
   "outputs": [
    {
     "name": "stdout",
     "output_type": "stream",
     "text": [
      "(2, 2)\n"
     ]
    }
   ],
   "source": [
    "print(txt())"
   ]
  },
  {
   "cell_type": "code",
   "execution_count": 127,
   "metadata": {},
   "outputs": [],
   "source": [
    "f=open(\"demo.txt\",\"r\")"
   ]
  },
  {
   "cell_type": "code",
   "execution_count": 129,
   "metadata": {},
   "outputs": [
    {
     "data": {
      "text/plain": [
       "0"
      ]
     },
     "execution_count": 129,
     "metadata": {},
     "output_type": "execute_result"
    }
   ],
   "source": [
    "len(f.readlines())"
   ]
  },
  {
   "cell_type": "code",
   "execution_count": 130,
   "metadata": {},
   "outputs": [],
   "source": [
    "f.close()"
   ]
  },
  {
   "cell_type": "code",
   "execution_count": null,
   "metadata": {},
   "outputs": [],
   "source": [
    "import pickle\n"
   ]
  },
  {
   "cell_type": "code",
   "execution_count": 365,
   "metadata": {},
   "outputs": [],
   "source": [
    "def hanoi(frm,aux,to,n):\n",
    "    if n==1:\n",
    "        print(\"Move disk \",frm,\" to \",to)\n",
    "        return\n",
    "    hanoi(frm,to,aux,n-1)\n",
    "    print(\"Move disk \",frm,\" to \",to)\n",
    "    hanoi(aux,frm,to,n-1)\n",
    "        "
   ]
  },
  {
   "cell_type": "code",
   "execution_count": 366,
   "metadata": {},
   "outputs": [
    {
     "name": "stdout",
     "output_type": "stream",
     "text": [
      "Move disk  A  to  B\n",
      "Move disk  A  to  C\n",
      "Move disk  B  to  C\n"
     ]
    }
   ],
   "source": [
    "hanoi(\"A\",\"B\",\"C\",2)"
   ]
  },
  {
   "cell_type": "code",
   "execution_count": 163,
   "metadata": {},
   "outputs": [],
   "source": [
    "def main():\n",
    "    m=110\n",
    "    try:\n",
    "        if m<0 or m>100:\n",
    "            raise ValueError(\"Marks out of range\")\n",
    "    finally:\n",
    "        print(\"bye\")\n",
    "    print(\"Prog. executed\")"
   ]
  },
  {
   "cell_type": "code",
   "execution_count": 164,
   "metadata": {},
   "outputs": [
    {
     "name": "stdout",
     "output_type": "stream",
     "text": [
      "bye\n"
     ]
    },
    {
     "ename": "ValueError",
     "evalue": "Marks out of range",
     "output_type": "error",
     "traceback": [
      "\u001b[1;31m---------------------------------------------------------------------------\u001b[0m",
      "\u001b[1;31mValueError\u001b[0m                                Traceback (most recent call last)",
      "\u001b[1;32m<ipython-input-164-263240bbee7e>\u001b[0m in \u001b[0;36m<module>\u001b[1;34m\u001b[0m\n\u001b[1;32m----> 1\u001b[1;33m \u001b[0mmain\u001b[0m\u001b[1;33m(\u001b[0m\u001b[1;33m)\u001b[0m\u001b[1;33m\u001b[0m\u001b[1;33m\u001b[0m\u001b[0m\n\u001b[0m",
      "\u001b[1;32m<ipython-input-163-cf81c0856c08>\u001b[0m in \u001b[0;36mmain\u001b[1;34m()\u001b[0m\n\u001b[0;32m      3\u001b[0m     \u001b[1;32mtry\u001b[0m\u001b[1;33m:\u001b[0m\u001b[1;33m\u001b[0m\u001b[1;33m\u001b[0m\u001b[0m\n\u001b[0;32m      4\u001b[0m         \u001b[1;32mif\u001b[0m \u001b[0mm\u001b[0m\u001b[1;33m<\u001b[0m\u001b[1;36m0\u001b[0m \u001b[1;32mor\u001b[0m \u001b[0mm\u001b[0m\u001b[1;33m>\u001b[0m\u001b[1;36m100\u001b[0m\u001b[1;33m:\u001b[0m\u001b[1;33m\u001b[0m\u001b[1;33m\u001b[0m\u001b[0m\n\u001b[1;32m----> 5\u001b[1;33m             \u001b[1;32mraise\u001b[0m \u001b[0mValueError\u001b[0m\u001b[1;33m(\u001b[0m\u001b[1;34m\"Marks out of range\"\u001b[0m\u001b[1;33m)\u001b[0m\u001b[1;33m\u001b[0m\u001b[1;33m\u001b[0m\u001b[0m\n\u001b[0m\u001b[0;32m      6\u001b[0m     \u001b[1;32mfinally\u001b[0m\u001b[1;33m:\u001b[0m\u001b[1;33m\u001b[0m\u001b[1;33m\u001b[0m\u001b[0m\n\u001b[0;32m      7\u001b[0m         \u001b[0mprint\u001b[0m\u001b[1;33m(\u001b[0m\u001b[1;34m\"bye\"\u001b[0m\u001b[1;33m)\u001b[0m\u001b[1;33m\u001b[0m\u001b[1;33m\u001b[0m\u001b[0m\n",
      "\u001b[1;31mValueError\u001b[0m: Marks out of range"
     ]
    }
   ],
   "source": [
    "main()"
   ]
  },
  {
   "cell_type": "code",
   "execution_count": 165,
   "metadata": {},
   "outputs": [],
   "source": [
    "import sys\n",
    "def ComputeModeratedMarks(file1,file2,addpercent):\n",
    "    try:\n",
    "        fin=open(file1,\"r\")\n",
    "        fout=open(file2,\"w\")\n",
    "    except IOError:\n",
    "        print(\"Prob. in opening file\"); sys.exit()\n",
    "    \n",
    "    line=fin.readline()\n",
    "    while(line!=\"\"):\n",
    "        lst=line.split(\",\")\n",
    "        try:\n",
    "            rollno=int(lst[0])\n",
    "            name=lst[1]\n",
    "            marks=int(lst[2])\n",
    "        except (IndexError,ValueError):\n",
    "            print(\"Error in reading file\"); sys.exit()\n",
    "            \n",
    "        maxmarks=100\n",
    "        moderatedmarks=marks+((addpercent*maxmarks)/100)\n",
    "        if moderatedmarks>100:\n",
    "            moderatedmarks=100\n",
    "        fout.write(str(rollno)+','+name+','+str(moderatedmarks)+'\\n')\n",
    "        line=fin.readline()\n",
    "    fin.close()\n",
    "    fout.close()\n",
    "        "
   ]
  },
  {
   "cell_type": "code",
   "execution_count": 166,
   "metadata": {},
   "outputs": [],
   "source": [
    "ComputeModeratedMarks(\"st.txt\",\"moderated.txt\",3)"
   ]
  },
  {
   "cell_type": "code",
   "execution_count": 194,
   "metadata": {},
   "outputs": [],
   "source": [
    "def traingle(n):\n",
    "    for i in range(1,n+1):\n",
    "        print(\" \"*(n-i), end=\"\")\n",
    "        for j in range(i,0,-1):\n",
    "            print(\"*\",end=\"\")\n",
    "        for j in range(2,i+1):\n",
    "            print(\"*\",end=\"\")\n",
    "        print()"
   ]
  },
  {
   "cell_type": "code",
   "execution_count": 195,
   "metadata": {},
   "outputs": [
    {
     "name": "stdout",
     "output_type": "stream",
     "text": [
      "   *\n",
      "  ***\n",
      " *****\n",
      "*******\n"
     ]
    }
   ],
   "source": [
    "traingle(4)"
   ]
  },
  {
   "cell_type": "code",
   "execution_count": 171,
   "metadata": {},
   "outputs": [],
   "source": [
    "def traingle1(n):\n",
    "    for i in range(1,n+1):\n",
    "        for j in range(1,i+1):\n",
    "            print(j,end=\"\")\n",
    "        print()"
   ]
  },
  {
   "cell_type": "code",
   "execution_count": 172,
   "metadata": {},
   "outputs": [
    {
     "name": "stdout",
     "output_type": "stream",
     "text": [
      "1\n",
      "12\n",
      "123\n",
      "1234\n",
      "12345\n"
     ]
    }
   ],
   "source": [
    "traingle1(5)"
   ]
  },
  {
   "cell_type": "code",
   "execution_count": 175,
   "metadata": {},
   "outputs": [],
   "source": [
    "def traingle2(n):\n",
    "    for i in range(1,n+1):\n",
    "        for j in range(n-i+1,0,-1):\n",
    "            print(j,end=\"\")\n",
    "        print()"
   ]
  },
  {
   "cell_type": "code",
   "execution_count": 176,
   "metadata": {},
   "outputs": [
    {
     "name": "stdout",
     "output_type": "stream",
     "text": [
      "54321\n",
      "4321\n",
      "321\n",
      "21\n",
      "1\n"
     ]
    }
   ],
   "source": [
    "traingle2(5)"
   ]
  },
  {
   "cell_type": "code",
   "execution_count": 179,
   "metadata": {},
   "outputs": [],
   "source": [
    "def traingle3(n):\n",
    "    for i in range(1,n+1):\n",
    "        for j in range(i,i+1):\n",
    "            print(str(j)*j,end=\"\")\n",
    "        print()"
   ]
  },
  {
   "cell_type": "code",
   "execution_count": 180,
   "metadata": {},
   "outputs": [
    {
     "name": "stdout",
     "output_type": "stream",
     "text": [
      "1\n",
      "22\n",
      "333\n",
      "4444\n",
      "55555\n"
     ]
    }
   ],
   "source": [
    "traingle3(5)"
   ]
  },
  {
   "cell_type": "code",
   "execution_count": 192,
   "metadata": {},
   "outputs": [],
   "source": [
    "def traingle4(n):\n",
    "    for i in range(1,n+1):\n",
    "        print(\" \"*i,end=\"\")\n",
    "        for j in range(i,n+1):\n",
    "            print(j,end=\"\")\n",
    "        print()"
   ]
  },
  {
   "cell_type": "code",
   "execution_count": 193,
   "metadata": {},
   "outputs": [
    {
     "name": "stdout",
     "output_type": "stream",
     "text": [
      " 12345\n",
      "  2345\n",
      "   345\n",
      "    45\n",
      "     5\n"
     ]
    }
   ],
   "source": [
    "traingle4(5)"
   ]
  },
  {
   "cell_type": "code",
   "execution_count": 203,
   "metadata": {},
   "outputs": [
    {
     "name": "stdout",
     "output_type": "stream",
     "text": [
      "enter details\"anu\"\n"
     ]
    }
   ],
   "source": [
    "i=eval(input(\"enter details\"))"
   ]
  },
  {
   "cell_type": "code",
   "execution_count": 204,
   "metadata": {},
   "outputs": [
    {
     "data": {
      "text/plain": [
       "str"
      ]
     },
     "execution_count": 204,
     "metadata": {},
     "output_type": "execute_result"
    }
   ],
   "source": [
    "type(i)"
   ]
  },
  {
   "cell_type": "code",
   "execution_count": 208,
   "metadata": {},
   "outputs": [],
   "source": [
    "l=[1,2,3,4,5]\n",
    "l.insert(5,6)"
   ]
  },
  {
   "cell_type": "code",
   "execution_count": 209,
   "metadata": {},
   "outputs": [
    {
     "data": {
      "text/plain": [
       "[1, 2, 3, 4, 5, 6]"
      ]
     },
     "execution_count": 209,
     "metadata": {},
     "output_type": "execute_result"
    }
   ],
   "source": [
    "l"
   ]
  },
  {
   "cell_type": "code",
   "execution_count": 317,
   "metadata": {},
   "outputs": [],
   "source": [
    "def dic(d):\n",
    "    inv={}\n",
    "    for k,v in d.items():\n",
    "        if v in inv:\n",
    "            inv[v].append(k)\n",
    "        else:\n",
    "            inv[v]=[k]\n",
    "    #inv={x:inv[x] for x in inv if len(inv[x])>1}\n",
    "    return inv"
   ]
  },
  {
   "cell_type": "code",
   "execution_count": 319,
   "metadata": {},
   "outputs": [
    {
     "data": {
      "text/plain": [
       "{'one': [1], 'two': [2, 3], 'four': [4]}"
      ]
     },
     "execution_count": 319,
     "metadata": {},
     "output_type": "execute_result"
    }
   ],
   "source": [
    "dic({1:\"one\",2:\"two\",3:\"two\",4:\"four\"})"
   ]
  },
  {
   "cell_type": "code",
   "execution_count": 332,
   "metadata": {},
   "outputs": [
    {
     "ename": "SyntaxError",
     "evalue": "invalid syntax (<ipython-input-332-dd714cf36d24>, line 2)",
     "output_type": "error",
     "traceback": [
      "\u001b[1;36m  File \u001b[1;32m\"<ipython-input-332-dd714cf36d24>\"\u001b[1;36m, line \u001b[1;32m2\u001b[0m\n\u001b[1;33m    d2 = {v:k for k,v in d1.items() (inv[v].append(k)) if v in inv else inv[v]=[k]}\u001b[0m\n\u001b[1;37m                                                                      ^\u001b[0m\n\u001b[1;31mSyntaxError\u001b[0m\u001b[1;31m:\u001b[0m invalid syntax\n"
     ]
    }
   ],
   "source": [
    "d1={\"a\":\"b\",\"c\":\"d\",\"a\":\"f\"}\n",
    "d2 = {v:k for k,v in d1.items() (inv[v].append(k)) if v in inv else inv[v]=[k]}\n",
    "print(d2)"
   ]
  },
  {
   "cell_type": "code",
   "execution_count": 246,
   "metadata": {},
   "outputs": [
    {
     "name": "stdout",
     "output_type": "stream",
     "text": [
      "[-111, -12, 0, 5, 8, 9, 11, 15]\n"
     ]
    }
   ],
   "source": [
    "def bubble(lst,i,j):\n",
    "    if len(lst)==0:\n",
    "        return lst\n",
    "    if i==j:\n",
    "        return\n",
    "    else: \n",
    "        if lst[i]>lst[i+1]:\n",
    "            lst[i],lst[i+1]=lst[i+1],lst[i]\n",
    "        bubble(lst,i+1,j)\n",
    "    \n",
    "def bubblesort(lst,i,j):\n",
    "    if i==j:\n",
    "        print(lst)\n",
    "    else:\n",
    "        bubble(lst,i,j)\n",
    "        bubblesort(lst,i,j-1)\n",
    "\n",
    "l=[9,5,8,0,15,11,-12,-111]\n",
    "bubblesort(l,0,7)"
   ]
  },
  {
   "cell_type": "code",
   "execution_count": 265,
   "metadata": {},
   "outputs": [],
   "source": [
    "l=[5,8,12,13,36,40,18,35,17,30]\n",
    "k=3\n",
    "for i in range(k,k+1):\n",
    "    for j in range(k,len(l)-1):\n",
    "        if l[j]>l[j+1]:\n",
    "            l[j],l[j+1]=l[j+1],l[j]"
   ]
  },
  {
   "cell_type": "code",
   "execution_count": 266,
   "metadata": {},
   "outputs": [
    {
     "data": {
      "text/plain": [
       "[5, 8, 12, 13, 36, 18, 35, 17, 30, 40]"
      ]
     },
     "execution_count": 266,
     "metadata": {},
     "output_type": "execute_result"
    }
   ],
   "source": [
    "l"
   ]
  },
  {
   "cell_type": "code",
   "execution_count": 91,
   "metadata": {},
   "outputs": [],
   "source": [
    "def bubble(lst,m,n):\n",
    "    if m==n:\n",
    "        return lst\n",
    "    else:\n",
    "        if lst[n-1]>lst[n]:\n",
    "            lst[n-1],lst[n]=lst[n],lst[n-1]\n",
    "        return bubble(lst,m,n-1)"
   ]
  },
  {
   "cell_type": "code",
   "execution_count": 92,
   "metadata": {},
   "outputs": [],
   "source": [
    "l=[5,8,12,13,36,40,18,35,17,30]\n",
    "le=len(l)"
   ]
  },
  {
   "cell_type": "code",
   "execution_count": 93,
   "metadata": {},
   "outputs": [
    {
     "data": {
      "text/plain": [
       "[5, 8, 12, 13, 17, 36, 40, 18, 35, 30]"
      ]
     },
     "execution_count": 93,
     "metadata": {},
     "output_type": "execute_result"
    }
   ],
   "source": [
    "bubble(l,3,le-1)"
   ]
  },
  {
   "cell_type": "code",
   "execution_count": 304,
   "metadata": {},
   "outputs": [
    {
     "data": {
      "text/plain": [
       "[5, 8, 12, 13, 36, 17, 40, 18, 35, 30]"
      ]
     },
     "execution_count": 304,
     "metadata": {},
     "output_type": "execute_result"
    }
   ],
   "source": [
    "l"
   ]
  },
  {
   "cell_type": "code",
   "execution_count": 338,
   "metadata": {},
   "outputs": [
    {
     "data": {
      "text/plain": [
       "[5, 8, 12, 13, 17, 18, 30, 35, 36, 40]"
      ]
     },
     "execution_count": 338,
     "metadata": {},
     "output_type": "execute_result"
    }
   ],
   "source": [
    "l=[5,8,12,13,36,40,18,35,17,30]\n",
    "le=len(l)\n",
    "def bubblesort(lst,m,n):\n",
    "    if m==n:\n",
    "        return lst\n",
    "    else:\n",
    "        bubble(l,m,n)\n",
    "        return bubblesort(lst,m+1,n)\n",
    "bubblesort(l,0,le-1)"
   ]
  },
  {
   "cell_type": "code",
   "execution_count": 340,
   "metadata": {},
   "outputs": [],
   "source": [
    "def reverse(s):\n",
    "    if s==\"\":\n",
    "        return s\n",
    "    else:\n",
    "        return s[-1]+s[:-1]"
   ]
  },
  {
   "cell_type": "code",
   "execution_count": 341,
   "metadata": {},
   "outputs": [
    {
     "data": {
      "text/plain": [
       "'vanubha'"
      ]
     },
     "execution_count": 341,
     "metadata": {},
     "output_type": "execute_result"
    }
   ],
   "source": [
    "reverse(\"anubhav\")"
   ]
  },
  {
   "cell_type": "code",
   "execution_count": 360,
   "metadata": {},
   "outputs": [],
   "source": [
    "def Shallowcopy2(lst,index=0,newList=[]):\n",
    "  '''\n",
    "  objective: Copy a list to another list using append function\n",
    "  Input: lst, index, newList\n",
    "  output: Returns a new copied list\n",
    "  approach: recursion\n",
    "  '''\n",
    "  if index==len(lst):\n",
    "    return newList\n",
    "  else:\n",
    "    newList.append(lst[index])\n",
    "    return Shallowcopy2(lst,index+1,newList)"
   ]
  },
  {
   "cell_type": "code",
   "execution_count": 361,
   "metadata": {},
   "outputs": [
    {
     "data": {
      "text/plain": [
       "[1, 2, 3, [1, 7, 9]]"
      ]
     },
     "execution_count": 361,
     "metadata": {},
     "output_type": "execute_result"
    }
   ],
   "source": [
    "Shallowcopy2([1,2,3,[1,7,9]])"
   ]
  },
  {
   "cell_type": "code",
   "execution_count": 362,
   "metadata": {},
   "outputs": [],
   "source": [
    "def deepcopy(lst,i=0,n=[]):\n",
    "    if i==len(lst):\n",
    "        return n\n",
    "    else:\n",
    "        if type(lst[i])!=list:\n",
    "            n.append(lst[i])\n",
    "            return deepcopy(lst,i+1,n)\n",
    "        else:\n",
    "            nested=[]\n",
    "            deepcopy(lst[i],0,nested)\n",
    "            n.append(nested)\n",
    "            return deepcopy(lst,i+1,n)"
   ]
  },
  {
   "cell_type": "code",
   "execution_count": 359,
   "metadata": {},
   "outputs": [
    {
     "data": {
      "text/plain": [
       "[1, 2, 3, [1, 7, 9]]"
      ]
     },
     "execution_count": 359,
     "metadata": {},
     "output_type": "execute_result"
    }
   ],
   "source": [
    "deepcopy([1,2,3,[1,7,9]])"
   ]
  },
  {
   "cell_type": "code",
   "execution_count": 78,
   "metadata": {},
   "outputs": [],
   "source": [
    "def duplicate(lst,i=0,r=0):\n",
    "    if i==len(lst)-1:\n",
    "        if lst[i]==r:\n",
    "                lst.pop(i)\n",
    "                print(lst)\n",
    "        return lst\n",
    "    else:\n",
    "        if (lst[i]==lst[i+1]):\n",
    "            lst.pop(i)\n",
    "            print(lst)\n",
    "            r=lst[i]\n",
    "            if lst[i]==r:\n",
    "                lst.pop(i)\n",
    "                print(lst)\n",
    "                return duplicate(lst,i,r)\n",
    "        else:\n",
    "            if lst[i]==r:\n",
    "                lst.pop(i)\n",
    "                print(lst)\n",
    "                return duplicate(lst,i,r)\n",
    "            else:\n",
    "                return duplicate(lst,i+1,r)\n",
    "            \n",
    "            "
   ]
  },
  {
   "cell_type": "code",
   "execution_count": 79,
   "metadata": {},
   "outputs": [
    {
     "name": "stdout",
     "output_type": "stream",
     "text": [
      "[1, 2, 4, 7, 7, 7, 8, 8, 7, 9]\n",
      "[1, 2, 7, 7, 7, 8, 8, 7, 9]\n",
      "[1, 2, 7, 7, 8, 8, 7, 9]\n",
      "[1, 2, 7, 8, 8, 7, 9]\n",
      "[1, 2, 8, 8, 7, 9]\n",
      "[1, 2, 8, 7, 9]\n",
      "[1, 2, 7, 9]\n"
     ]
    },
    {
     "data": {
      "text/plain": [
       "[1, 2, 7, 9]"
      ]
     },
     "execution_count": 79,
     "metadata": {},
     "output_type": "execute_result"
    }
   ],
   "source": [
    "duplicate([1,2,4,4,7,7,7,8,8,7,9])"
   ]
  },
  {
   "cell_type": "code",
   "execution_count": 416,
   "metadata": {},
   "outputs": [
    {
     "data": {
      "text/plain": [
       "[4, 4, 2]"
      ]
     },
     "execution_count": 416,
     "metadata": {},
     "output_type": "execute_result"
    }
   ],
   "source": [
    "l=[1, 2, 4, 4, 5, 7, 7, 7, 8, 8, 9, 7]\n",
    "l[3:0:-1]"
   ]
  },
  {
   "cell_type": "code",
   "execution_count": 64,
   "metadata": {},
   "outputs": [],
   "source": [
    "def selection(lst,i,j,m=0):\n",
    "    if i==j:\n",
    "        lst[m],lst[i]=lst[i],lst[m]\n",
    "        return lst\n",
    "    else:\n",
    "        if lst[m]>lst[j]:\n",
    "            m=j\n",
    "        return selection(lst,i,j-1,m)"
   ]
  },
  {
   "cell_type": "code",
   "execution_count": 65,
   "metadata": {},
   "outputs": [
    {
     "data": {
      "text/plain": [
       "[1, 4, 3, 2, 5]"
      ]
     },
     "execution_count": 65,
     "metadata": {},
     "output_type": "execute_result"
    }
   ],
   "source": [
    "selection([5,4,3,2,1],0,4,0)"
   ]
  },
  {
   "cell_type": "code",
   "execution_count": 57,
   "metadata": {},
   "outputs": [],
   "source": [
    "def selectionsort(lst,i,j):\n",
    "    if i==j:\n",
    "        return lst\n",
    "    else:\n",
    "        selection(lst,i,j,i)\n",
    "        return selectionsort(lst,i+1,j)"
   ]
  },
  {
   "cell_type": "code",
   "execution_count": 58,
   "metadata": {},
   "outputs": [
    {
     "data": {
      "text/plain": [
       "[1, 2, 3, 4, 5, 6]"
      ]
     },
     "execution_count": 58,
     "metadata": {},
     "output_type": "execute_result"
    }
   ],
   "source": [
    "selectionsort([6,5,4,3,2,1],0,5)"
   ]
  },
  {
   "cell_type": "code",
   "execution_count": null,
   "metadata": {},
   "outputs": [],
   "source": []
  },
  {
   "cell_type": "code",
   "execution_count": null,
   "metadata": {},
   "outputs": [],
   "source": []
  }
 ],
 "metadata": {
  "kernelspec": {
   "display_name": "Python 3",
   "language": "python",
   "name": "python3"
  },
  "language_info": {
   "codemirror_mode": {
    "name": "ipython",
    "version": 3
   },
   "file_extension": ".py",
   "mimetype": "text/x-python",
   "name": "python",
   "nbconvert_exporter": "python",
   "pygments_lexer": "ipython3",
   "version": "3.7.4"
  }
 },
 "nbformat": 4,
 "nbformat_minor": 2
}
