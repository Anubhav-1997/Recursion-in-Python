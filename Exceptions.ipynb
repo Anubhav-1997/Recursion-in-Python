{
 "cells": [
  {
   "cell_type": "code",
   "execution_count": 2,
   "metadata": {},
   "outputs": [
    {
     "name": "stdout",
     "output_type": "stream",
     "text": [
      "Program continues smoothly beyond try...except block\n"
     ]
    }
   ],
   "source": [
    "def main():\n",
    "    '''\n",
    "    Objective: To open a file for reading\n",
    "    Input Parameter: None\n",
    "    Return Value: None\n",
    "    '''\n",
    "    try:\n",
    "        f = open('D:\\Temporary_File.txt' , 'r')\n",
    "    except IOError:\n",
    "        print('Problem with Input Output... ')\n",
    "    print('Program continues smoothly beyond try...except block')\n",
    "\n",
    "if __name__ == '__main__':\n",
    "    main()"
   ]
  },
  {
   "cell_type": "code",
   "execution_count": 3,
   "metadata": {},
   "outputs": [
    {
     "name": "stdout",
     "output_type": "stream",
     "text": [
      "Problem with Input Output...\n",
      " [Errno 2] No such file or directory: 'Temporary_File'\n",
      "(<class 'FileNotFoundError'>, FileNotFoundError(2, 'No such file or directory'), <traceback object at 0x0000022935B88848>)\n",
      "Program continues smoothly beyond try...except block\n"
     ]
    }
   ],
   "source": [
    "import sys\n",
    "def main():\n",
    "    '''\n",
    "    Objective: To open a file for reading\n",
    "    Input Parameter: None\n",
    "    Return Value: None\n",
    "    '''\n",
    "    try:\n",
    "        f = open('Temporary_File', 'r')\n",
    "    except IOError as err:\n",
    "        print('Problem with Input Output...\\n', err)\n",
    "        print(sys.exc_info())\n",
    "    print('Program continues smoothly beyond try...except block')\n",
    "\n",
    "if __name__ == '__main__': \n",
    "    main()"
   ]
  },
  {
   "cell_type": "code",
   "execution_count": null,
   "metadata": {
    "collapsed": true
   },
   "outputs": [],
   "source": []
  }
 ],
 "metadata": {
  "kernelspec": {
   "display_name": "Python 3",
   "language": "python",
   "name": "python3"
  },
  "language_info": {
   "codemirror_mode": {
    "name": "ipython",
    "version": 3
   },
   "file_extension": ".py",
   "mimetype": "text/x-python",
   "name": "python",
   "nbconvert_exporter": "python",
   "pygments_lexer": "ipython3",
   "version": "3.6.3"
  }
 },
 "nbformat": 4,
 "nbformat_minor": 2
}
