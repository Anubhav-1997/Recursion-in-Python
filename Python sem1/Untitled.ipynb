{
 "cells": [
  {
   "cell_type": "code",
   "execution_count": null,
   "metadata": {
    "collapsed": true
   },
   "outputs": [],
   "source": [
    "def succ(n):\n",
    "    '''\n",
    "    objective: to find the successor of a number\n",
    "    input parameter: n\n",
    "    return value: successor of n\n",
    "    '''\n",
    "    #approach: add 1 to the number n\n",
    "    return n+1\n",
    "def sum2(m, n, p = 0):\n",
    "    '''\n",
    "    objective: to add two numbers \n",
    "    input parameters:\n",
    "                m: number\n",
    "                n: number\n",
    "    return value: m + n\n",
    "    '''\n",
    "    approach use recursion\n",
    "    defult parameter p is used to count up to n\n",
    "    when p = n, we are done\n",
    "    \n",
    "    '''\n",
    "    \n",
    "    "
   ]
  }
 ],
 "metadata": {
  "kernelspec": {
   "display_name": "Python 3",
   "language": "python",
   "name": "python3"
  },
  "language_info": {
   "codemirror_mode": {
    "name": "ipython",
    "version": 3
   },
   "file_extension": ".py",
   "mimetype": "text/x-python",
   "name": "python",
   "nbconvert_exporter": "python",
   "pygments_lexer": "ipython3",
   "version": "3.6.3"
  }
 },
 "nbformat": 4,
 "nbformat_minor": 2
}
