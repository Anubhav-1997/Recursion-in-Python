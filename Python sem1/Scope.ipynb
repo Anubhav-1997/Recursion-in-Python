{
 "cells": [
  {
   "cell_type": "code",
   "execution_count": 1,
   "metadata": {},
   "outputs": [
    {
     "name": "stdout",
     "output_type": "stream",
     "text": [
      "global a:  4\n"
     ]
    }
   ],
   "source": [
    "a = 4\n",
    "def f():\n",
    "    print('global a: ', a)\n",
    "f()"
   ]
  },
  {
   "cell_type": "code",
   "execution_count": null,
   "metadata": {},
   "outputs": [],
   "source": [
    "a = 4.2\n",
    "def f():\n",
    "    a = 5\n",
    "    print('local a: ', a)\n",
    "f()\n",
    "print('global a: ', a)\n"
   ]
  },
  {
   "cell_type": "code",
   "execution_count": null,
   "metadata": {},
   "outputs": [],
   "source": [
    "type(print)"
   ]
  },
  {
   "cell_type": "code",
   "execution_count": null,
   "metadata": {},
   "outputs": [],
   "source": [
    "a = 6\n",
    "def f():\n",
    "    a = 5\n",
    "    def g():\n",
    "        b = a\n",
    "        print('inside function g, b: ', b)\n",
    "    g()\n",
    "f()\n",
    "print('in the global space a = ', a)"
   ]
  },
  {
   "cell_type": "code",
   "execution_count": null,
   "metadata": {},
   "outputs": [],
   "source": [
    "type(print)"
   ]
  },
  {
   "cell_type": "code",
   "execution_count": null,
   "metadata": {},
   "outputs": [],
   "source": [
    "type(f)"
   ]
  },
  {
   "cell_type": "code",
   "execution_count": null,
   "metadata": {},
   "outputs": [],
   "source": [
    "a = 7\n",
    "def f():\n",
    "    def g():\n",
    "        a = 5\n",
    "    g()\n",
    "    print('in outer function f, a =', a)\n",
    "f()\n"
   ]
  },
  {
   "cell_type": "code",
   "execution_count": null,
   "metadata": {},
   "outputs": [],
   "source": [
    "a = 4\n",
    "def f():\n",
    "    a = 5\n",
    "    def g():\n",
    "        b = a\n",
    "        print('inside function g', 'a = ', a, 'b = ', b)\n",
    "        a = 5 # As a is defined locally, all accesses to a are considered local\n",
    "    g()\n",
    "f()\n"
   ]
  },
  {
   "cell_type": "code",
   "execution_count": null,
   "metadata": {},
   "outputs": [],
   "source": [
    "a = 4\n",
    "def f():\n",
    "    a = 5\n",
    "    def g():\n",
    "        b = a\n",
    "        print('inside function g', 'a = ', a, 'b = ', b)\n",
    "        #a = 5 # As a is defined locally, all accesses to a are considered local\n",
    "    g()\n",
    "f()"
   ]
  },
  {
   "cell_type": "code",
   "execution_count": null,
   "metadata": {},
   "outputs": [],
   "source": [
    "a = 4\n",
    "def f():\n",
    "    a = 5\n",
    "    def g():\n",
    "        print(a)\n",
    "        b = a\n",
    "        print('inside function g', 'a = ', a, 'b = ', b)\n",
    "        #a = 5\n",
    "    g()\n",
    "f()\n"
   ]
  },
  {
   "cell_type": "code",
   "execution_count": null,
   "metadata": {
    "collapsed": true
   },
   "outputs": [],
   "source": [
    "a = 4\n",
    "def f():\n",
    "    a = 5\n",
    "    def g():\n",
    "        nonlocal a\n",
    "        print('inside g, before modifying a,', 'a = ', a)\n",
    "        a = 10\n",
    "        print('inside g, after modifying a,', 'a = ', a)\n",
    "    print('inside f, before calling g,', 'a = ', a)\n",
    "    g()\n",
    "    print('inside f, after calling g,', 'a = ', a)\n",
    "f()\n",
    "print('after calling f,', 'a = ', a)\n"
   ]
  },
  {
   "cell_type": "code",
   "execution_count": null,
   "metadata": {
    "collapsed": true
   },
   "outputs": [],
   "source": [
    "a = 3\n",
    "def f():\n",
    "    def g():\n",
    "        global a\n",
    "        a = 4\n",
    "        print('inside function g, global a = ', a)\n",
    "    g()\n",
    "    a = 5\n",
    "    print('inside function f, local a = ', a)\n",
    "f()\n",
    "print('outside of all function definitions a = ', a)\n"
   ]
  },
  {
   "cell_type": "code",
   "execution_count": null,
   "metadata": {
    "collapsed": true
   },
   "outputs": [],
   "source": [
    "def outer():\n",
    "    \n",
    "    def f():\n",
    "        def g():\n",
    "            nonlocal a\n",
    "            a = 4\n",
    "            print('inside function g, global a = ', a)\n",
    "        g()\n",
    "        print('inside f:', a)\n",
    "        a = 5\n",
    "        print('inside function f, local a = ', a)\n",
    "    f()\n",
    "    print('inside outer: ', a)\n",
    "outer()\n",
    "print('outside of all function definitions a = ', a)"
   ]
  },
  {
   "cell_type": "code",
   "execution_count": null,
   "metadata": {
    "collapsed": true
   },
   "outputs": [],
   "source": [
    "def outer():\n",
    "    a = 6\n",
    "    def f():\n",
    "        nonlocal a\n",
    "        def g():\n",
    "            nonlocal a\n",
    "            a = 4\n",
    "            print('inside function g, global a = ', a)\n",
    "        g()\n",
    "        print('inside f:', a)\n",
    "        a = 5\n",
    "        print('inside function f, local a = ', a)\n",
    "    f()\n",
    "    print('inside outer: ', a)\n",
    "outer()\n",
    "print('outside of all function definitions a = ', a)"
   ]
  },
  {
   "cell_type": "code",
   "execution_count": null,
   "metadata": {
    "collapsed": true
   },
   "outputs": [],
   "source": [
    "a = 3\n",
    "def f():\n",
    "    global a\n",
    "    def g():\n",
    "        a = 4\n",
    "        print('inside function g, a = ', a)\n",
    "    g()\n",
    "    #a = 5\n",
    "    print('inside function f,  a = ', a)\n",
    "f()\n",
    "print('outside of all function definitions a = ', a)"
   ]
  },
  {
   "cell_type": "code",
   "execution_count": null,
   "metadata": {
    "collapsed": true
   },
   "outputs": [],
   "source": [
    "a = 3\n",
    "def f():\n",
    "    global a\n",
    "    def g():\n",
    "        print(a)\n",
    "        a = 4\n",
    "        print('inside function g, a = ', a)\n",
    "    g()\n",
    "    #a = 5\n",
    "    print('inside function f,  a = ', a)\n",
    "f()\n",
    "print('outside of all function definitions a = ', a)"
   ]
  },
  {
   "cell_type": "code",
   "execution_count": null,
   "metadata": {
    "collapsed": true
   },
   "outputs": [],
   "source": [
    "a = 3\n",
    "def f():\n",
    "    global a\n",
    "    def g():\n",
    "        global a\n",
    "        a = 4\n",
    "        print('inside function g, a = ', a)\n",
    "    g()\n",
    "    #a = 5\n",
    "    print('inside function f,  a = ', a)\n",
    "f()\n",
    "print('outside of all function definitions a = ', a)"
   ]
  },
  {
   "cell_type": "code",
   "execution_count": null,
   "metadata": {
    "collapsed": true
   },
   "outputs": [],
   "source": []
  },
  {
   "cell_type": "code",
   "execution_count": null,
   "metadata": {
    "collapsed": true
   },
   "outputs": [],
   "source": [
    "def f():\n",
    "    print('global f')\n",
    "\n",
    "def g():\n",
    "    global f\n",
    "    print('before re-definition of f, id(f): ', id(f))\n",
    "    def f():\n",
    "        print('inner f')\n",
    "    print('after re-definition of f: , id(f): ', id(f))\n",
    "    f()\n",
    "\n",
    "def h():\n",
    "    print('inside h: id(f): ', id(f))\n",
    "    f()\n",
    "    fprime()\n",
    "\n",
    "def main():\n",
    "    print('in global namespace: id(f): ', id(f))\n",
    "    fprime = f\n",
    "    f()\n",
    "    g()\n",
    "    print('in global namespace: id(f): ', id(f))\n",
    "    fprime()\n",
    "    h()\n",
    "\n",
    "if __name__ == '__main__':\n",
    "    main()\n"
   ]
  },
  {
   "cell_type": "code",
   "execution_count": null,
   "metadata": {
    "collapsed": true
   },
   "outputs": [],
   "source": [
    "a = 3\n",
    "def outer():\n",
    "    a = 6\n",
    "    def f():\n",
    "        nonlocal a\n",
    "        def g():\n",
    "            #nonlocal a\n",
    "            a = 4\n",
    "            print('inside function g, global a = ', a)\n",
    "        g()\n",
    "        print('inside f:', a)\n",
    "        a = 5\n",
    "        print('inside function f, local a = ', a)\n",
    "    f()\n",
    "    print('inside outer: ', a)\n",
    "outer()\n",
    "print('outside of all function definitions a = ', a)\n"
   ]
  },
  {
   "cell_type": "code",
   "execution_count": null,
   "metadata": {
    "collapsed": true
   },
   "outputs": [],
   "source": [
    "def f():\n",
    "    print('global f')\n",
    "\n",
    "def g():\n",
    "    global f\n",
    "    print('before re-definition of f, id(f): ', id(f))\n",
    "    def f():\n",
    "        print('inner f')\n",
    "    print('after re-definition of f: , id(f): ', id(f))\n",
    "    f()\n",
    "\n",
    "def h():\n",
    "    print('inside h: id(f): ', id(f))\n",
    "    f()\n",
    "    #fprime()\n",
    "\n",
    "def main():\n",
    "    print('in global namespace: id(f): ', id(f))\n",
    "    fprime = f\n",
    "    f()\n",
    "    g()\n",
    "    print('in global namespace: id(f): ', id(f))\n",
    "    fprime()\n",
    "    h()\n",
    "\n",
    "if __name__ == '__main__':\n",
    "    main()\n"
   ]
  }
 ],
 "metadata": {
  "kernelspec": {
   "display_name": "Python 3",
   "language": "python",
   "name": "python3"
  },
  "language_info": {
   "codemirror_mode": {
    "name": "ipython",
    "version": 3
   },
   "file_extension": ".py",
   "mimetype": "text/x-python",
   "name": "python",
   "nbconvert_exporter": "python",
   "pygments_lexer": "ipython3",
   "version": "3.6.3"
  }
 },
 "nbformat": 4,
 "nbformat_minor": 2
}
