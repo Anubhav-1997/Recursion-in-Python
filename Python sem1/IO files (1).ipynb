{
 "cells": [
  {
   "cell_type": "code",
   "execution_count": 4,
   "metadata": {},
   "outputs": [
    {
     "name": "stdout",
     "output_type": "stream",
     "text": [
      "['hello', 'world'] {1: 'one', 2: 'two'}\n"
     ]
    }
   ],
   "source": [
    "import pickle as pk\n",
    "def main():\n",
    "    '''\n",
    "    objective: To read & write a list & dict. to and from a file\n",
    "    Input: none\n",
    "    Return: none\n",
    "    \n",
    "    '''\n",
    "    f=open(r'C:\\Users\\DUCS\\Desktop\\file1.txt','wb')\n",
    "    pk.dump(['hello','world'],f)\n",
    "    pk.dump({1:'one',2:'two'},f)\n",
    "    f.close()\n",
    "    f=open('file1','rb')\n",
    "    value1=pk.load(f)\n",
    "    value2=pk.load(f)\n",
    "    print(value1,value2)\n",
    "    f.close()\n",
    "if __name__=='__main__':\n",
    "    main()"
   ]
  },
  {
   "cell_type": "code",
   "execution_count": null,
   "metadata": {},
   "outputs": [],
   "source": []
  }
 ],
 "metadata": {
  "kernelspec": {
   "display_name": "Python 3",
   "language": "python",
   "name": "python3"
  },
  "language_info": {
   "codemirror_mode": {
    "name": "ipython",
    "version": 3
   },
   "file_extension": ".py",
   "mimetype": "text/x-python",
   "name": "python",
   "nbconvert_exporter": "python",
   "pygments_lexer": "ipython3",
   "version": "3.6.5"
  }
 },
 "nbformat": 4,
 "nbformat_minor": 2
}
