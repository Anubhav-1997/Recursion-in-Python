{
  "nbformat": 4,
  "nbformat_minor": 0,
  "metadata": {
    "colab": {
      "name": "lab8.ipynb",
      "provenance": [],
      "collapsed_sections": [],
      "include_colab_link": true
    },
    "kernelspec": {
      "name": "python3",
      "display_name": "Python 3"
    }
  },
  "cells": [
    {
      "cell_type": "markdown",
      "metadata": {
        "id": "view-in-github",
        "colab_type": "text"
      },
      "source": [
        "<a href=\"https://colab.research.google.com/github/byte-AI/Recursion-problems/blob/master/lab8.ipynb\" target=\"_parent\"><img src=\"https://colab.research.google.com/assets/colab-badge.svg\" alt=\"Open In Colab\"/></a>"
      ]
    },
    {
      "cell_type": "code",
      "metadata": {
        "id": "C0VIerQjuJ2a",
        "colab_type": "code",
        "colab": {}
      },
      "source": [
        "def rev(lis,i=0):\n",
        "  '''\n",
        "  objective:to reverse a list\n",
        "  input parameter: list\n",
        "  return: reversed list\n",
        "  '''\n",
        "  if i==int(len(lis)/2):\n",
        "    return lis\n",
        "  else:\n",
        "    lis[i],lis[len(lis)-i-1]=lis[len(lis)-i-1],lis[i]\n",
        "    return rev(lis,i+1)"
      ],
      "execution_count": 0,
      "outputs": []
    },
    {
      "cell_type": "code",
      "metadata": {
        "id": "dGhp_rNrvTjQ",
        "colab_type": "code",
        "colab": {
          "base_uri": "https://localhost:8080/",
          "height": 34
        },
        "outputId": "3d41b667-c12b-437b-a2ad-e24aba7bd0be"
      },
      "source": [
        "rev([1,2,3,4,5])"
      ],
      "execution_count": 6,
      "outputs": [
        {
          "output_type": "execute_result",
          "data": {
            "text/plain": [
              "[5, 4, 3, 2, 1]"
            ]
          },
          "metadata": {
            "tags": []
          },
          "execution_count": 6
        }
      ]
    },
    {
      "cell_type": "code",
      "metadata": {
        "id": "0mRHGjKKvZpp",
        "colab_type": "code",
        "colab": {}
      },
      "source": [
        "def alternate_insertion(lis,n,i=1):\n",
        "  '''\n",
        "  objective: to add n in list at alternate positions\n",
        "  input parameter: list and number\n",
        "  return: reversed:new list\n",
        "  '''\n",
        "  if i==len(lis)+1:\n",
        "    return lis\n",
        "  else:\n",
        "    lis.insert(i,n)\n",
        "    return alternate_insertion(lis,n,i+2)"
      ],
      "execution_count": 0,
      "outputs": []
    },
    {
      "cell_type": "code",
      "metadata": {
        "id": "Xtpe5FpIzjt2",
        "colab_type": "code",
        "colab": {
          "base_uri": "https://localhost:8080/",
          "height": 34
        },
        "outputId": "11387348-8296-4cd4-a18a-702201ebd3b8"
      },
      "source": [
        "alternate_insertion([1,4,5,6],2)"
      ],
      "execution_count": 5,
      "outputs": [
        {
          "output_type": "execute_result",
          "data": {
            "text/plain": [
              "[1, 2, 4, 2, 5, 2, 6, 2]"
            ]
          },
          "metadata": {
            "tags": []
          },
          "execution_count": 5
        }
      ]
    },
    {
      "cell_type": "code",
      "metadata": {
        "id": "uOSd1kr0zmRe",
        "colab_type": "code",
        "colab": {}
      },
      "source": [
        ""
      ],
      "execution_count": 0,
      "outputs": []
    }
  ]
}