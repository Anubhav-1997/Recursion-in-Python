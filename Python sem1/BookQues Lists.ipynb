{
 "cells": [
  {
   "cell_type": "code",
   "execution_count": 1,
   "metadata": {},
   "outputs": [],
   "source": [
    "'''\n",
    "WAP that takes a list of values as input paramenter and returns another list without any duplicates\n",
    "\n",
    "'''\n",
    "def compare(list1,i,j):\n",
    "    if(j==len(list1)):\n",
    "        return 0\n",
    "    \n",
    "    elif(list1[i]==list1[j]):\n",
    "        return 1\n",
    "    \n",
    "    else:\n",
    "        return compare(list1,i,j+1)\n",
    "        \n",
    "def rem_duplicates(list1,mylist=list(),i=0):\n",
    "       \n",
    "    if(i==len(list1)):\n",
    "        return mylist\n",
    "    \n",
    "    if(compare(list1,i,i+1)==True):\n",
    "        return rem_duplicates(list1,mylist,i+1)\n",
    "        \n",
    "    else:\n",
    "        mylist.append(list1[i])\n",
    "        return rem_duplicates(list1,mylist,i+1)\n",
    "        \n"
   ]
  },
  {
   "cell_type": "code",
   "execution_count": 2,
   "metadata": {},
   "outputs": [
    {
     "data": {
      "text/plain": [
       "[89, 90, 34, 78, 99]"
      ]
     },
     "execution_count": 2,
     "metadata": {},
     "output_type": "execute_result"
    }
   ],
   "source": [
    "list1=[90,78,89,90,34,78,99]\n",
    "rem_duplicates(list1)"
   ]
  },
  {
   "cell_type": "code",
   "execution_count": null,
   "metadata": {},
   "outputs": [],
   "source": [
    "'''\n",
    "produce a cumulative list\n",
    "\n",
    "'''\n",
    "def cum_list(mylist,i=None):\n",
    "    if i is None:\n",
    "        i=len(mylist)-1\n",
    "    if(i==-1):\n",
    "        return mylist\n",
    "    else:\n",
    "        mylist[i]=sum(mylist[0:i+1])\n",
    "        return cum_list(mylist,i-1)"
   ]
  },
  {
   "cell_type": "code",
   "execution_count": null,
   "metadata": {},
   "outputs": [],
   "source": [
    "list1=[1,2,3,4,6]\n",
    "cum_list(list1)"
   ]
  },
  {
   "cell_type": "code",
   "execution_count": null,
   "metadata": {},
   "outputs": [],
   "source": [
    "'''\n",
    "WAP that takes a sentence as input from the user and computes the frequency of each letter. use\n",
    "a variable of dictionary type to maintain the count.\n",
    "\n",
    "'''\n",
    "def count_dict(mylist, i=0, d={}):\n",
    "    \n",
    "    if(i==len(mylist)):\n",
    "        return d\n",
    "    alt={}\n",
    "    alt[mylist[i]]=1\n",
    "    \n",
    "    if mylist[i].isalpha() and mylist[i] not in d:\n",
    "        d.update(alt)\n",
    "       \n",
    "    elif mylist[i].isalpha():\n",
    "        d[mylist[i]]+=1  \n",
    "        \n",
    "    return count_dict(mylist,i+1,d)\n",
    "    \n",
    "\n",
    "def main():\n",
    "    list1=\"Hello, My name is Khushboo\"\n",
    "    list1=list(list1)\n",
    "    print(list1)\n",
    "    d=count_dict(list1)\n",
    "    print(d)\n",
    "    "
   ]
  },
  {
   "cell_type": "code",
   "execution_count": null,
   "metadata": {},
   "outputs": [],
   "source": [
    "main()"
   ]
  },
  {
   "cell_type": "code",
   "execution_count": 3,
   "metadata": {},
   "outputs": [],
   "source": [
    "'''\n",
    "WAP that takes a number as an input parameter and returns the correspomding text in words\n",
    "452->four five two\n",
    "\n",
    "'''\n",
    "text={1:'one ', 2:'two ', 3:'three ', 4:'four ', 5:'five ', 6:'six ', 7:'seven ', 8:'eight ', \n",
    "      9:'nine ',0:'zero '}\n",
    "def text1(num, s=\"\"):\n",
    "    global text\n",
    "    if(num==0):\n",
    "        return s\n",
    "    else:\n",
    "        n=num%10\n",
    "        s=text[n]+s\n",
    "        return text1(int(num/10),s)"
   ]
  },
  {
   "cell_type": "code",
   "execution_count": 5,
   "metadata": {},
   "outputs": [
    {
     "data": {
      "text/plain": [
       "''"
      ]
     },
     "execution_count": 5,
     "metadata": {},
     "output_type": "execute_result"
    }
   ],
   "source": [
    "text1(0)"
   ]
  },
  {
   "cell_type": "code",
   "execution_count": null,
   "metadata": {},
   "outputs": [],
   "source": [
    "'''\n",
    "print reverse of a string\n",
    "\n",
    "'''\n",
    "def rev_string(str1,s=\"\"):\n",
    "    if(len(str1)==0):\n",
    "        return s\n",
    "    \n",
    "    s=s+str1[-1]\n",
    "    return rev_string(str1[0:-1],s)\n",
    "    \n",
    "    "
   ]
  },
  {
   "cell_type": "code",
   "execution_count": null,
   "metadata": {},
   "outputs": [],
   "source": [
    "rev_string(\"abc\")"
   ]
  },
  {
   "cell_type": "code",
   "execution_count": 6,
   "metadata": {},
   "outputs": [],
   "source": [
    "'''\n",
    "WAP to check if string is a palindrome\n",
    "\n",
    "'''\n",
    "def palindrome(str1):\n",
    "    if(len(str1)==0 or len(str1)==1):\n",
    "        return True\n",
    "    else:\n",
    "        return str1[0]==str1[-1] and palindrome(str1[1:-1])"
   ]
  },
  {
   "cell_type": "code",
   "execution_count": 8,
   "metadata": {},
   "outputs": [
    {
     "data": {
      "text/plain": [
       "True"
      ]
     },
     "execution_count": 8,
     "metadata": {},
     "output_type": "execute_result"
    }
   ],
   "source": [
    "palindrome(\"abba\")"
   ]
  },
  {
   "cell_type": "code",
   "execution_count": null,
   "metadata": {},
   "outputs": [],
   "source": [
    "'''\n",
    "flatten a list\n",
    "\n",
    "'''\n",
    "def flatten(list1,i=0,mylist=[]):\n",
    "    if(i==len(list1)):\n",
    "        return mylist\n",
    "    elif(type(list1[i])==list):\n",
    "        flatten(list1[i],0,mylist)\n",
    "        return flatten(list1, i+1, mylist)\n",
    "    else:\n",
    "        mylist.append(list1[i])\n",
    "        return flatten(list1, i+1, mylist)"
   ]
  },
  {
   "cell_type": "code",
   "execution_count": null,
   "metadata": {},
   "outputs": [],
   "source": [
    "list1=[45,90,[1,2,3],92,[2,3],89]\n",
    "flatten(list1)"
   ]
  },
  {
   "cell_type": "code",
   "execution_count": 9,
   "metadata": {},
   "outputs": [],
   "source": [
    "def inverse():\n",
    "    try:\n",
    "        num=input('Enter the number')\n",
    "        num=float(num)\n",
    "        inverse=1.0/num\n",
    "    except ValueError:\n",
    "        print(\"Value error\")\n",
    "    except TypeError:\n",
    "        print(\"type error\")\n",
    "    except ZeroDivisionError:\n",
    "        print(\"Zero division error\")\n",
    "    except:\n",
    "        print(\"error\")\n",
    "    else:\n",
    "        print(inverse)\n",
    "    finally:\n",
    "        print(\"function inverse completed\")\n",
    "    "
   ]
  },
  {
   "cell_type": "code",
   "execution_count": 11,
   "metadata": {},
   "outputs": [
    {
     "name": "stdout",
     "output_type": "stream",
     "text": [
      "Enter the number0\n",
      "Zero division error\n",
      "function inverse completed\n"
     ]
    }
   ],
   "source": [
    "inverse()"
   ]
  },
  {
   "cell_type": "code",
   "execution_count": null,
   "metadata": {},
   "outputs": [],
   "source": [
    "'''\n",
    "read file1 line by line and write in file2\n",
    "'''\n",
    "def ReadWrite(file1, file2):\n",
    "    fread=open(file1,'r')\n",
    "    fwrite=open(file2,'w')\n",
    "    line1=fread.readline()\n",
    "    while(line1!=''):\n",
    "        fwrite.writelines(line1)\n",
    "        line1=fread.readline()\n",
    "    \n",
    "    fread.close()\n",
    "    fwrite.close()"
   ]
  },
  {
   "cell_type": "code",
   "execution_count": null,
   "metadata": {},
   "outputs": [],
   "source": [
    "ReadWrite('revise.txt','ab.txt')"
   ]
  },
  {
   "cell_type": "code",
   "execution_count": null,
   "metadata": {},
   "outputs": [],
   "source": [
    "f1=open('ab.txt','r')\n",
    "print(f1.read())\n",
    "f1.close()"
   ]
  },
  {
   "cell_type": "code",
   "execution_count": 7,
   "metadata": {},
   "outputs": [],
   "source": [
    "'''\n",
    "reads file1 and displays the number of words and vowels in the file\n",
    "\n",
    "'''\n",
    "fread=open('revise.txt','r')\n",
    "fwrite=open('ab.txt','w')\n",
    "vowelCount, wordCount=0, 0\n",
    "st=\"aeiouAEIOU\"\n",
    "vowel=list(st)\n",
    "data=fread.read()\n",
    "\n",
    "data=list(data)\n",
    "for i in data:\n",
    "    if(i in vowel):\n",
    "        vowelCount+=1\n",
    "    if(i==\" \" or i=='.'):\n",
    "        wordCount+=1\n",
    "    \n",
    "    \n",
    "fwrite.write(\"Number of vowels is \"+str(vowelCount)+\"\\n\")\n",
    "fwrite.write(\"Number of words \"+str(wordCount))\n",
    "fread.close()\n",
    "fwrite.close()"
   ]
  },
  {
   "cell_type": "code",
   "execution_count": 43,
   "metadata": {},
   "outputs": [
    {
     "name": "stdout",
     "output_type": "stream",
     "text": [
      "Number of alphabets 68\n",
      "Number of lower Case 64\n",
      "Number of upper case 4\n",
      "Number of blank spaces 10\n",
      "Number of words starting with vowels 4\n",
      "Number of occurrences of Beautiful 2\n"
     ]
    }
   ],
   "source": [
    "'''\n",
    "read file \n",
    "count number of alphabets\n",
    "blank spaces\n",
    "lowercase letter\n",
    "uppercase letter\n",
    "number of words starting with vowels \n",
    "number of occurrences of word beautiful\n",
    "\n",
    "'''\n",
    "def countAlpha(data,i=0, x=0, y=0, z=0):\n",
    "    if i==len(data):\n",
    "        return x, y, z\n",
    "    else:\n",
    "        if data[i].isalpha() and data[i].islower():\n",
    "            x+=1\n",
    "            y+=1\n",
    "            \n",
    "        elif data[i].isalpha() and data[i].isupper():\n",
    "            x+=1\n",
    "            z+=1\n",
    "            \n",
    "        return countAlpha(data,i+1,x,y,z)\n",
    "    \n",
    "def blankSpace(data,i=0,x=0):\n",
    "    if(i==len(data)):\n",
    "        return x\n",
    "    elif data[i]==\" \":\n",
    "        x+=1\n",
    "    return blankSpace(data, i+1,x)\n",
    "\n",
    "def startVowel(data,i=0,x=0):\n",
    "    if(i==len(data)):\n",
    "        return x\n",
    "    else:\n",
    "        d=list(data[i])\n",
    "        vowel=list(\"aeiouAEIOU\")\n",
    "        if d[0] in vowel:\n",
    "            x+=1\n",
    "        return startVowel(data,i+1, x)\n",
    "    \n",
    "fread=open('revise.txt','r')\n",
    "data=fread.read()\n",
    "ACount=0\n",
    "BlankCount=lowCount=upCount=vStart=0\n",
    "Bcount=data.count(\"Beautiful\")\n",
    "vowel=list(str(\"aeiouAEIOU\"))\n",
    "data2=list(data)\n",
    "ACount,lowCount,upCount=countAlpha(list(data))\n",
    "BlankCount=blankSpace(list(data))\n",
    "vStart=startVowel(data.split())\n",
    "print(\"Number of alphabets \"+str(ACount)+\"\\nNumber of lower Case \"+str(lowCount) \n",
    "     +\"\\nNumber of upper case \"+str(upCount)+\"\\nNumber of blank spaces \"+str(BlankCount)\n",
    "     +\"\\nNumber of words starting with vowels \"+str(vStart)\n",
    "     +\"\\nNumber of occurrences of Beautiful \"+str(Bcount))\n"
   ]
  },
  {
   "cell_type": "code",
   "execution_count": null,
   "metadata": {},
   "outputs": [],
   "source": []
  }
 ],
 "metadata": {
  "kernelspec": {
   "display_name": "Python 3",
   "language": "python",
   "name": "python3"
  },
  "language_info": {
   "codemirror_mode": {
    "name": "ipython",
    "version": 3
   },
   "file_extension": ".py",
   "mimetype": "text/x-python",
   "name": "python",
   "nbconvert_exporter": "python",
   "pygments_lexer": "ipython3",
   "version": "3.7.4"
  }
 },
 "nbformat": 4,
 "nbformat_minor": 2
}
