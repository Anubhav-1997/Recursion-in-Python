{
  "nbformat": 4,
  "nbformat_minor": 0,
  "metadata": {
    "colab": {
      "name": "Tower of Hanoi.ipynb",
      "provenance": [],
      "include_colab_link": true
    },
    "kernelspec": {
      "name": "python3",
      "display_name": "Python 3"
    }
  },
  "cells": [
    {
      "cell_type": "markdown",
      "metadata": {
        "id": "view-in-github",
        "colab_type": "text"
      },
      "source": [
        "<a href=\"https://colab.research.google.com/github/Anubhav-1997/Recursion-in-Python/blob/master/Tower_of_Hanoi.ipynb\" target=\"_parent\"><img src=\"https://colab.research.google.com/assets/colab-badge.svg\" alt=\"Open In Colab\"/></a>"
      ]
    },
    {
      "cell_type": "code",
      "metadata": {
        "id": "WoQCnUSaXptT",
        "colab_type": "code",
        "colab": {}
      },
      "source": [
        "def TowerOfHanoi(fr,aux,to,n):\n",
        "  if n==1:\n",
        "    print(\"Move Disk \",fr,\" to \",to)\n",
        "    return\n",
        "  TowerOfHanoi(fr,to,aux,n-1)\n",
        "  print(\"Move Disk \",fr,\" to \",to)\n",
        "  TowerOfHanoi(aux,fr,to,n-1)"
      ],
      "execution_count": 0,
      "outputs": []
    },
    {
      "cell_type": "code",
      "metadata": {
        "id": "X-lglPxxfWm0",
        "colab_type": "code",
        "colab": {
          "base_uri": "https://localhost:8080/",
          "height": 139
        },
        "outputId": "350d9384-cec5-4244-8736-5942907ea6cb"
      },
      "source": [
        "TowerOfHanoi('A','B','C',3)"
      ],
      "execution_count": 4,
      "outputs": [
        {
          "output_type": "stream",
          "text": [
            "Move Disk  A  to  C\n",
            "Move Disk  A  to  B\n",
            "Move Disk  C  to  B\n",
            "Move Disk  A  to  C\n",
            "Move Disk  B  to  A\n",
            "Move Disk  B  to  C\n",
            "Move Disk  A  to  C\n"
          ],
          "name": "stdout"
        }
      ]
    },
    {
      "cell_type": "code",
      "metadata": {
        "id": "CzXt64w6fojE",
        "colab_type": "code",
        "colab": {}
      },
      "source": [
        ""
      ],
      "execution_count": 0,
      "outputs": []
    }
  ]
}